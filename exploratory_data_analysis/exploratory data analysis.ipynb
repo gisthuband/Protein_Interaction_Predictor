{
 "cells": [
  {
   "cell_type": "markdown",
   "id": "90a14f96",
   "metadata": {},
   "source": [
    "# Exploratory data analysis:\n",
    "\n",
    "In this notebook I will dissect the amino acid sequences into several features and add those features into the description.\n",
    "\n",
    "From the feature construction I will inspect the relationship between the features amongst the observations in the scope of whether there is a pattern in the protein features and the interactions.\n",
    "\n",
    "The data being examined is a wrangling of two csv files containing amino acid sequences between two proteins and whether or not those proteins interact with each other.\n",
    "\n",
    "The data is coming from kaggle https://www.kaggle.com/datasets/spandansureja/ppi-dataset?resource=download\n",
    "\n",
    "\n",
    "\n"
   ]
  },
  {
   "cell_type": "markdown",
   "id": "34920e87",
   "metadata": {},
   "source": [
    "1.) Develop residue analysis feature creator\n",
    "\n",
    "2.) Visualization of residue composition\n",
    "\n",
    "3.) Inferential Statistics: Pearson correlation, Chi Square test, t-test hypothesis testing\n",
    "\n",
    "4.) PCA"
   ]
  },
  {
   "cell_type": "markdown",
   "id": "51c91035",
   "metadata": {},
   "source": [
    "## Imports"
   ]
  },
  {
   "cell_type": "code",
   "execution_count": 1,
   "id": "6f531c66",
   "metadata": {},
   "outputs": [],
   "source": [
    "import pandas as pd\n",
    "import matplotlib.pyplot as plt\n",
    "import numpy as np\n",
    "import seaborn as sns\n",
    "import requests\n",
    "import ydata_profiling\n",
    "from ydata_profiling.utils.cache import cache_file\n",
    "from pathlib import Path"
   ]
  },
  {
   "cell_type": "code",
   "execution_count": 2,
   "id": "c7458ada",
   "metadata": {},
   "outputs": [],
   "source": [
    "df = pd.read_csv('complete.csv')"
   ]
  },
  {
   "cell_type": "code",
   "execution_count": 3,
   "id": "0a8670f6",
   "metadata": {},
   "outputs": [
    {
     "data": {
      "text/html": [
       "<div>\n",
       "<style scoped>\n",
       "    .dataframe tbody tr th:only-of-type {\n",
       "        vertical-align: middle;\n",
       "    }\n",
       "\n",
       "    .dataframe tbody tr th {\n",
       "        vertical-align: top;\n",
       "    }\n",
       "\n",
       "    .dataframe thead th {\n",
       "        text-align: right;\n",
       "    }\n",
       "</style>\n",
       "<table border=\"1\" class=\"dataframe\">\n",
       "  <thead>\n",
       "    <tr style=\"text-align: right;\">\n",
       "      <th></th>\n",
       "      <th>Unnamed: 0</th>\n",
       "      <th>protein_sequences_1</th>\n",
       "      <th>protein_sequences_2</th>\n",
       "      <th>protein_interaction</th>\n",
       "    </tr>\n",
       "  </thead>\n",
       "  <tbody>\n",
       "    <tr>\n",
       "      <th>0</th>\n",
       "      <td>0</td>\n",
       "      <td>MESSKKMDSPGALQTNPPLKLHTDRSAGTPVFVPEQGGYKEKFVKT...</td>\n",
       "      <td>MARPHPWWLCVLGTLVGLSATPAPKSCPERHYWAQGKLCCQMCEPG...</td>\n",
       "      <td>1</td>\n",
       "    </tr>\n",
       "    <tr>\n",
       "      <th>1</th>\n",
       "      <td>1</td>\n",
       "      <td>MVMSSYMVNSKYVDPKFPPCEEYLQGGYLGEQGADYYGGGAQGADF...</td>\n",
       "      <td>MAENVVEPGPPSAKRPKLSSPALSASASDGTDFGSLFDLEHDLPDE...</td>\n",
       "      <td>1</td>\n",
       "    </tr>\n",
       "    <tr>\n",
       "      <th>2</th>\n",
       "      <td>2</td>\n",
       "      <td>MNRHLWKSQLCEMVQPSGGPAADQDVLGEESPLGKPAMLHLPSEQG...</td>\n",
       "      <td>MEGGRRARVVIESKRNFFLGAFPTPFPAEHVELGRLGDSETAMVPG...</td>\n",
       "      <td>1</td>\n",
       "    </tr>\n",
       "    <tr>\n",
       "      <th>3</th>\n",
       "      <td>3</td>\n",
       "      <td>MAPPSTREPRVLSATSATKSDGEMVLPGFPDADSFVKFALGSVVAV...</td>\n",
       "      <td>MLFYSFFKSLVGKDVVVELKNDLSICGTLHSVDQYLNIKLTDISVT...</td>\n",
       "      <td>1</td>\n",
       "    </tr>\n",
       "    <tr>\n",
       "      <th>4</th>\n",
       "      <td>4</td>\n",
       "      <td>MQSGPRPPLPAPGLALALTLTMLARLASAASFFGENHLEVPVATAL...</td>\n",
       "      <td>MQTIKCVVVGDGAVGKTCLLISYTTNKFPSEYVPTVFDNYAVTVMI...</td>\n",
       "      <td>1</td>\n",
       "    </tr>\n",
       "  </tbody>\n",
       "</table>\n",
       "</div>"
      ],
      "text/plain": [
       "   Unnamed: 0                                protein_sequences_1  \\\n",
       "0           0  MESSKKMDSPGALQTNPPLKLHTDRSAGTPVFVPEQGGYKEKFVKT...   \n",
       "1           1  MVMSSYMVNSKYVDPKFPPCEEYLQGGYLGEQGADYYGGGAQGADF...   \n",
       "2           2  MNRHLWKSQLCEMVQPSGGPAADQDVLGEESPLGKPAMLHLPSEQG...   \n",
       "3           3  MAPPSTREPRVLSATSATKSDGEMVLPGFPDADSFVKFALGSVVAV...   \n",
       "4           4  MQSGPRPPLPAPGLALALTLTMLARLASAASFFGENHLEVPVATAL...   \n",
       "\n",
       "                                 protein_sequences_2  protein_interaction  \n",
       "0  MARPHPWWLCVLGTLVGLSATPAPKSCPERHYWAQGKLCCQMCEPG...                    1  \n",
       "1  MAENVVEPGPPSAKRPKLSSPALSASASDGTDFGSLFDLEHDLPDE...                    1  \n",
       "2  MEGGRRARVVIESKRNFFLGAFPTPFPAEHVELGRLGDSETAMVPG...                    1  \n",
       "3  MLFYSFFKSLVGKDVVVELKNDLSICGTLHSVDQYLNIKLTDISVT...                    1  \n",
       "4  MQTIKCVVVGDGAVGKTCLLISYTTNKFPSEYVPTVFDNYAVTVMI...                    1  "
      ]
     },
     "execution_count": 3,
     "metadata": {},
     "output_type": "execute_result"
    }
   ],
   "source": [
    "df.head()"
   ]
  },
  {
   "cell_type": "code",
   "execution_count": 4,
   "id": "5f3413a1",
   "metadata": {},
   "outputs": [],
   "source": [
    "df =df.drop(columns= 'Unnamed: 0')"
   ]
  },
  {
   "cell_type": "code",
   "execution_count": 5,
   "id": "32ee8091",
   "metadata": {},
   "outputs": [
    {
     "data": {
      "text/html": [
       "<div>\n",
       "<style scoped>\n",
       "    .dataframe tbody tr th:only-of-type {\n",
       "        vertical-align: middle;\n",
       "    }\n",
       "\n",
       "    .dataframe tbody tr th {\n",
       "        vertical-align: top;\n",
       "    }\n",
       "\n",
       "    .dataframe thead th {\n",
       "        text-align: right;\n",
       "    }\n",
       "</style>\n",
       "<table border=\"1\" class=\"dataframe\">\n",
       "  <thead>\n",
       "    <tr style=\"text-align: right;\">\n",
       "      <th></th>\n",
       "      <th>protein_interaction</th>\n",
       "    </tr>\n",
       "  </thead>\n",
       "  <tbody>\n",
       "    <tr>\n",
       "      <th>count</th>\n",
       "      <td>73110.000000</td>\n",
       "    </tr>\n",
       "    <tr>\n",
       "      <th>mean</th>\n",
       "      <td>0.501026</td>\n",
       "    </tr>\n",
       "    <tr>\n",
       "      <th>std</th>\n",
       "      <td>0.500002</td>\n",
       "    </tr>\n",
       "    <tr>\n",
       "      <th>min</th>\n",
       "      <td>0.000000</td>\n",
       "    </tr>\n",
       "    <tr>\n",
       "      <th>25%</th>\n",
       "      <td>0.000000</td>\n",
       "    </tr>\n",
       "    <tr>\n",
       "      <th>50%</th>\n",
       "      <td>1.000000</td>\n",
       "    </tr>\n",
       "    <tr>\n",
       "      <th>75%</th>\n",
       "      <td>1.000000</td>\n",
       "    </tr>\n",
       "    <tr>\n",
       "      <th>max</th>\n",
       "      <td>1.000000</td>\n",
       "    </tr>\n",
       "  </tbody>\n",
       "</table>\n",
       "</div>"
      ],
      "text/plain": [
       "       protein_interaction\n",
       "count         73110.000000\n",
       "mean              0.501026\n",
       "std               0.500002\n",
       "min               0.000000\n",
       "25%               0.000000\n",
       "50%               1.000000\n",
       "75%               1.000000\n",
       "max               1.000000"
      ]
     },
     "execution_count": 5,
     "metadata": {},
     "output_type": "execute_result"
    }
   ],
   "source": [
    "df.describe()"
   ]
  },
  {
   "cell_type": "markdown",
   "id": "0def5d21",
   "metadata": {},
   "source": [
    "## 1.) Residue analysis feature creator"
   ]
  },
  {
   "cell_type": "markdown",
   "id": "9e4094d6",
   "metadata": {},
   "source": [
    "## produce a function that splits each amino acid residue in the sequences, then sorts the residue into count dictionaries for each amino acid"
   ]
  },
  {
   "cell_type": "markdown",
   "id": "2d9b2a88",
   "metadata": {},
   "source": [
    "## https://wou.edu/chemistry/courses/online-chemistry-textbooks/ch450-and-ch451-biochemistry-defining-life-at-the-molecular-level/chapter-2-protein-structure/\n",
    "\n",
    "using this site for the classifications of amino acids between hydrophobic and hydrophilic"
   ]
  },
  {
   "cell_type": "code",
   "execution_count": 42,
   "id": "7d9be4c8",
   "metadata": {},
   "outputs": [],
   "source": [
    "def seq_features(df):\n",
    "    \n",
    "    structure = {'protein_1_seq':'p', 'protein_1_len':'p', '1_phobic_count':'p', '1_philic_count':'p', '1_basic_count': 'p', '1_acidic_count': 'p', '1_aromatic_count':'p', '1_sulfur_count': 'p', 'protein_2_seq':'p', 'protein_2_len':'p', '2_phobic_count':'p', '2_philic_count':'p', '2_basic_count': 'p', '2_acidic_count': 'p', '2_aromatic_count':'p', '2_sulfur_count': 'p'}\n",
    "    new_df = pd.DataFrame(data=structure, index=[0])\n",
    "    \n",
    "    for x in range(len(df)):\n",
    "        \n",
    "        p1_list = []\n",
    "        p2_list = []\n",
    "        \n",
    "        for i in range(2):\n",
    "            \n",
    "            amino_acids = ['A','C','D','E','F','G','H','I','K','L','M','N','P','Q', 'R','S','T','V','W','Y']\n",
    "    \n",
    "            ind_counts = {}\n",
    "            for a in amino_acids:\n",
    "                ind_counts[a] = 0\n",
    "\n",
    "            phobic = {'A':0, 'F':0, 'G':0, 'I':0, 'L':0, 'M':0, 'P':0, 'V':0, 'W':0, 'Y':0, 'phobic_total':0}\n",
    "            philic = {'C':0, 'D':0, 'E':0, 'H':0, 'K':0, 'N':0, 'Q':0, 'R':0, 'S':0, 'T':0, 'philic_total':0}\n",
    "            basic = {'H':0, 'K':0, 'R':0, 'basic_total':0}\n",
    "            acidic = {'D':0, 'E':0, 'acidic_total':0}\n",
    "            aromatic = {'F':0, 'H':0, 'W':0, 'Y':0, 'aromatic_total':0}\n",
    "            sulfur = {'C':0 , 'M':0, 'sulfur_total':0}\n",
    "            \n",
    "            \n",
    "            seq = df.iloc[x, i]\n",
    "            seq_split = [y for y in seq]\n",
    "            seq_len = len(seq_split)\n",
    "            \n",
    "            for z in seq_split:\n",
    "                \n",
    "                if z in ind_counts:\n",
    "                    ind_counts[z] += 1\n",
    "                    \n",
    "                if z in phobic:\n",
    "                    phobic[z] += 1\n",
    "                    phobic['phobic_total'] += 1\n",
    "                    \n",
    "                if z in philic:\n",
    "                    philic[z] += 1\n",
    "                    philic['philic_total'] += 1\n",
    "                    \n",
    "                if z in basic:\n",
    "                    basic[z] += 1\n",
    "                    basic['basic_total'] += 1\n",
    "                    \n",
    "                if z in acidic:\n",
    "                    acidic[z] += 1\n",
    "                    acidic['acidic_total'] += 1\n",
    "                    \n",
    "                if z in aromatic:\n",
    "                    aromatic[z] += 1\n",
    "                    aromatic['aromatic_total'] += 1\n",
    "                    \n",
    "                if z in sulfur:\n",
    "                    sulfur[z] += 1\n",
    "                    sulfur['sulfur_total'] += 1\n",
    "                    \n",
    "                    \n",
    "            if i == 0:\n",
    "                \n",
    "                p1_list = [seq, seq_len, phobic['phobic_total'], philic['philic_total'], basic['basic_total'], acidic['acidic_total'], aromatic['aromatic_total'], sulfur['sulfur_total']]\n",
    "                \n",
    "            elif i != 0:\n",
    "                \n",
    "                p2_list = [seq, seq_len, phobic['phobic_total'], philic['philic_total'], basic['basic_total'], acidic['acidic_total'], aromatic['aromatic_total'], sulfur['sulfur_total']]\n",
    "                \n",
    "        tot_list = p1_list + p2_list\n",
    "        col_list = [k for k,v in structure.items()]\n",
    "        \n",
    "        moving_dict = dict(zip(col_list, tot_list))\n",
    "        \n",
    "        moving_df = pd.DataFrame(data = moving_dict, index= [0])\n",
    "        \n",
    "        new_df = pd.concat([new_df, moving_df], axis = 0)\n",
    "        \n",
    "        \n",
    "    return new_df\n",
    "                    "
   ]
  },
  {
   "cell_type": "code",
   "execution_count": 43,
   "id": "4af23ee9",
   "metadata": {},
   "outputs": [],
   "source": [
    "df_fe = seq_features(df)"
   ]
  },
  {
   "cell_type": "code",
   "execution_count": 44,
   "id": "41b5a370",
   "metadata": {},
   "outputs": [
    {
     "data": {
      "text/html": [
       "<div>\n",
       "<style scoped>\n",
       "    .dataframe tbody tr th:only-of-type {\n",
       "        vertical-align: middle;\n",
       "    }\n",
       "\n",
       "    .dataframe tbody tr th {\n",
       "        vertical-align: top;\n",
       "    }\n",
       "\n",
       "    .dataframe thead th {\n",
       "        text-align: right;\n",
       "    }\n",
       "</style>\n",
       "<table border=\"1\" class=\"dataframe\">\n",
       "  <thead>\n",
       "    <tr style=\"text-align: right;\">\n",
       "      <th></th>\n",
       "      <th>protein_1_seq</th>\n",
       "      <th>protein_1_len</th>\n",
       "      <th>1_phobic_count</th>\n",
       "      <th>1_philic_count</th>\n",
       "      <th>1_basic_count</th>\n",
       "      <th>1_acidic_count</th>\n",
       "      <th>1_aromatic_count</th>\n",
       "      <th>1_sulfur_count</th>\n",
       "      <th>protein_2_seq</th>\n",
       "      <th>protein_2_len</th>\n",
       "      <th>2_phobic_count</th>\n",
       "      <th>2_philic_count</th>\n",
       "      <th>2_basic_count</th>\n",
       "      <th>2_acidic_count</th>\n",
       "      <th>2_aromatic_count</th>\n",
       "      <th>2_sulfur_count</th>\n",
       "    </tr>\n",
       "  </thead>\n",
       "  <tbody>\n",
       "    <tr>\n",
       "      <th>0</th>\n",
       "      <td>p</td>\n",
       "      <td>p</td>\n",
       "      <td>p</td>\n",
       "      <td>p</td>\n",
       "      <td>p</td>\n",
       "      <td>p</td>\n",
       "      <td>p</td>\n",
       "      <td>p</td>\n",
       "      <td>p</td>\n",
       "      <td>p</td>\n",
       "      <td>p</td>\n",
       "      <td>p</td>\n",
       "      <td>p</td>\n",
       "      <td>p</td>\n",
       "      <td>p</td>\n",
       "      <td>p</td>\n",
       "    </tr>\n",
       "    <tr>\n",
       "      <th>0</th>\n",
       "      <td>MESSKKMDSPGALQTNPPLKLHTDRSAGTPVFVPEQGGYKEKFVKT...</td>\n",
       "      <td>568</td>\n",
       "      <td>243</td>\n",
       "      <td>325</td>\n",
       "      <td>98</td>\n",
       "      <td>73</td>\n",
       "      <td>56</td>\n",
       "      <td>44</td>\n",
       "      <td>MARPHPWWLCVLGTLVGLSATPAPKSCPERHYWAQGKLCCQMCEPG...</td>\n",
       "      <td>260</td>\n",
       "      <td>120</td>\n",
       "      <td>140</td>\n",
       "      <td>40</td>\n",
       "      <td>25</td>\n",
       "      <td>30</td>\n",
       "      <td>26</td>\n",
       "    </tr>\n",
       "    <tr>\n",
       "      <th>0</th>\n",
       "      <td>MVMSSYMVNSKYVDPKFPPCEEYLQGGYLGEQGADYYGGGAQGADF...</td>\n",
       "      <td>255</td>\n",
       "      <td>136</td>\n",
       "      <td>119</td>\n",
       "      <td>39</td>\n",
       "      <td>20</td>\n",
       "      <td>32</td>\n",
       "      <td>10</td>\n",
       "      <td>MAENVVEPGPPSAKRPKLSSPALSASASDGTDFGSLFDLEHDLPDE...</td>\n",
       "      <td>2414</td>\n",
       "      <td>1189</td>\n",
       "      <td>1225</td>\n",
       "      <td>277</td>\n",
       "      <td>178</td>\n",
       "      <td>170</td>\n",
       "      <td>169</td>\n",
       "    </tr>\n",
       "    <tr>\n",
       "      <th>0</th>\n",
       "      <td>MNRHLWKSQLCEMVQPSGGPAADQDVLGEESPLGKPAMLHLPSEQG...</td>\n",
       "      <td>419</td>\n",
       "      <td>175</td>\n",
       "      <td>244</td>\n",
       "      <td>71</td>\n",
       "      <td>73</td>\n",
       "      <td>23</td>\n",
       "      <td>23</td>\n",
       "      <td>MEGGRRARVVIESKRNFFLGAFPTPFPAEHVELGRLGDSETAMVPG...</td>\n",
       "      <td>538</td>\n",
       "      <td>252</td>\n",
       "      <td>286</td>\n",
       "      <td>77</td>\n",
       "      <td>87</td>\n",
       "      <td>53</td>\n",
       "      <td>30</td>\n",
       "    </tr>\n",
       "    <tr>\n",
       "      <th>0</th>\n",
       "      <td>MAPPSTREPRVLSATSATKSDGEMVLPGFPDADSFVKFALGSVVAV...</td>\n",
       "      <td>885</td>\n",
       "      <td>424</td>\n",
       "      <td>461</td>\n",
       "      <td>143</td>\n",
       "      <td>114</td>\n",
       "      <td>92</td>\n",
       "      <td>32</td>\n",
       "      <td>MLFYSFFKSLVGKDVVVELKNDLSICGTLHSVDQYLNIKLTDISVT...</td>\n",
       "      <td>95</td>\n",
       "      <td>47</td>\n",
       "      <td>48</td>\n",
       "      <td>13</td>\n",
       "      <td>12</td>\n",
       "      <td>10</td>\n",
       "      <td>4</td>\n",
       "    </tr>\n",
       "  </tbody>\n",
       "</table>\n",
       "</div>"
      ],
      "text/plain": [
       "                                       protein_1_seq protein_1_len  \\\n",
       "0                                                  p             p   \n",
       "0  MESSKKMDSPGALQTNPPLKLHTDRSAGTPVFVPEQGGYKEKFVKT...           568   \n",
       "0  MVMSSYMVNSKYVDPKFPPCEEYLQGGYLGEQGADYYGGGAQGADF...           255   \n",
       "0  MNRHLWKSQLCEMVQPSGGPAADQDVLGEESPLGKPAMLHLPSEQG...           419   \n",
       "0  MAPPSTREPRVLSATSATKSDGEMVLPGFPDADSFVKFALGSVVAV...           885   \n",
       "\n",
       "  1_phobic_count 1_philic_count 1_basic_count 1_acidic_count 1_aromatic_count  \\\n",
       "0              p              p             p              p                p   \n",
       "0            243            325            98             73               56   \n",
       "0            136            119            39             20               32   \n",
       "0            175            244            71             73               23   \n",
       "0            424            461           143            114               92   \n",
       "\n",
       "  1_sulfur_count                                      protein_2_seq  \\\n",
       "0              p                                                  p   \n",
       "0             44  MARPHPWWLCVLGTLVGLSATPAPKSCPERHYWAQGKLCCQMCEPG...   \n",
       "0             10  MAENVVEPGPPSAKRPKLSSPALSASASDGTDFGSLFDLEHDLPDE...   \n",
       "0             23  MEGGRRARVVIESKRNFFLGAFPTPFPAEHVELGRLGDSETAMVPG...   \n",
       "0             32  MLFYSFFKSLVGKDVVVELKNDLSICGTLHSVDQYLNIKLTDISVT...   \n",
       "\n",
       "  protein_2_len 2_phobic_count 2_philic_count 2_basic_count 2_acidic_count  \\\n",
       "0             p              p              p             p              p   \n",
       "0           260            120            140            40             25   \n",
       "0          2414           1189           1225           277            178   \n",
       "0           538            252            286            77             87   \n",
       "0            95             47             48            13             12   \n",
       "\n",
       "  2_aromatic_count 2_sulfur_count  \n",
       "0                p              p  \n",
       "0               30             26  \n",
       "0              170            169  \n",
       "0               53             30  \n",
       "0               10              4  "
      ]
     },
     "execution_count": 44,
     "metadata": {},
     "output_type": "execute_result"
    }
   ],
   "source": [
    "df_fe.head()"
   ]
  },
  {
   "cell_type": "code",
   "execution_count": 45,
   "id": "d5e47915",
   "metadata": {},
   "outputs": [
    {
     "data": {
      "text/plain": [
       "(73111, 16)"
      ]
     },
     "execution_count": 45,
     "metadata": {},
     "output_type": "execute_result"
    }
   ],
   "source": [
    "df_fe.shape"
   ]
  },
  {
   "cell_type": "code",
   "execution_count": 47,
   "id": "5973d3c8",
   "metadata": {},
   "outputs": [],
   "source": [
    "df_fe = df_fe.reset_index(drop=True)"
   ]
  },
  {
   "cell_type": "code",
   "execution_count": 49,
   "id": "2ce09c71",
   "metadata": {},
   "outputs": [],
   "source": [
    "df_fe =df_fe.drop(index=[0])"
   ]
  },
  {
   "cell_type": "code",
   "execution_count": 200,
   "id": "5d3e292f",
   "metadata": {},
   "outputs": [],
   "source": [
    "df_fe = df_fe.reset_index(drop=True)"
   ]
  },
  {
   "cell_type": "code",
   "execution_count": 201,
   "id": "a7877ff9",
   "metadata": {},
   "outputs": [
    {
     "data": {
      "text/html": [
       "<div>\n",
       "<style scoped>\n",
       "    .dataframe tbody tr th:only-of-type {\n",
       "        vertical-align: middle;\n",
       "    }\n",
       "\n",
       "    .dataframe tbody tr th {\n",
       "        vertical-align: top;\n",
       "    }\n",
       "\n",
       "    .dataframe thead th {\n",
       "        text-align: right;\n",
       "    }\n",
       "</style>\n",
       "<table border=\"1\" class=\"dataframe\">\n",
       "  <thead>\n",
       "    <tr style=\"text-align: right;\">\n",
       "      <th></th>\n",
       "      <th>protein_1_seq</th>\n",
       "      <th>protein_1_len</th>\n",
       "      <th>1_phobic_count</th>\n",
       "      <th>1_philic_count</th>\n",
       "      <th>1_basic_count</th>\n",
       "      <th>1_acidic_count</th>\n",
       "      <th>1_aromatic_count</th>\n",
       "      <th>1_sulfur_count</th>\n",
       "      <th>protein_2_seq</th>\n",
       "      <th>protein_2_len</th>\n",
       "      <th>2_phobic_count</th>\n",
       "      <th>2_philic_count</th>\n",
       "      <th>2_basic_count</th>\n",
       "      <th>2_acidic_count</th>\n",
       "      <th>2_aromatic_count</th>\n",
       "      <th>2_sulfur_count</th>\n",
       "    </tr>\n",
       "  </thead>\n",
       "  <tbody>\n",
       "    <tr>\n",
       "      <th>0</th>\n",
       "      <td>MESSKKMDSPGALQTNPPLKLHTDRSAGTPVFVPEQGGYKEKFVKT...</td>\n",
       "      <td>568</td>\n",
       "      <td>243</td>\n",
       "      <td>325</td>\n",
       "      <td>98</td>\n",
       "      <td>73</td>\n",
       "      <td>56</td>\n",
       "      <td>44</td>\n",
       "      <td>MARPHPWWLCVLGTLVGLSATPAPKSCPERHYWAQGKLCCQMCEPG...</td>\n",
       "      <td>260</td>\n",
       "      <td>120</td>\n",
       "      <td>140</td>\n",
       "      <td>40</td>\n",
       "      <td>25</td>\n",
       "      <td>30</td>\n",
       "      <td>26</td>\n",
       "    </tr>\n",
       "    <tr>\n",
       "      <th>1</th>\n",
       "      <td>MVMSSYMVNSKYVDPKFPPCEEYLQGGYLGEQGADYYGGGAQGADF...</td>\n",
       "      <td>255</td>\n",
       "      <td>136</td>\n",
       "      <td>119</td>\n",
       "      <td>39</td>\n",
       "      <td>20</td>\n",
       "      <td>32</td>\n",
       "      <td>10</td>\n",
       "      <td>MAENVVEPGPPSAKRPKLSSPALSASASDGTDFGSLFDLEHDLPDE...</td>\n",
       "      <td>2414</td>\n",
       "      <td>1189</td>\n",
       "      <td>1225</td>\n",
       "      <td>277</td>\n",
       "      <td>178</td>\n",
       "      <td>170</td>\n",
       "      <td>169</td>\n",
       "    </tr>\n",
       "    <tr>\n",
       "      <th>2</th>\n",
       "      <td>MNRHLWKSQLCEMVQPSGGPAADQDVLGEESPLGKPAMLHLPSEQG...</td>\n",
       "      <td>419</td>\n",
       "      <td>175</td>\n",
       "      <td>244</td>\n",
       "      <td>71</td>\n",
       "      <td>73</td>\n",
       "      <td>23</td>\n",
       "      <td>23</td>\n",
       "      <td>MEGGRRARVVIESKRNFFLGAFPTPFPAEHVELGRLGDSETAMVPG...</td>\n",
       "      <td>538</td>\n",
       "      <td>252</td>\n",
       "      <td>286</td>\n",
       "      <td>77</td>\n",
       "      <td>87</td>\n",
       "      <td>53</td>\n",
       "      <td>30</td>\n",
       "    </tr>\n",
       "    <tr>\n",
       "      <th>3</th>\n",
       "      <td>MAPPSTREPRVLSATSATKSDGEMVLPGFPDADSFVKFALGSVVAV...</td>\n",
       "      <td>885</td>\n",
       "      <td>424</td>\n",
       "      <td>461</td>\n",
       "      <td>143</td>\n",
       "      <td>114</td>\n",
       "      <td>92</td>\n",
       "      <td>32</td>\n",
       "      <td>MLFYSFFKSLVGKDVVVELKNDLSICGTLHSVDQYLNIKLTDISVT...</td>\n",
       "      <td>95</td>\n",
       "      <td>47</td>\n",
       "      <td>48</td>\n",
       "      <td>13</td>\n",
       "      <td>12</td>\n",
       "      <td>10</td>\n",
       "      <td>4</td>\n",
       "    </tr>\n",
       "    <tr>\n",
       "      <th>4</th>\n",
       "      <td>MQSGPRPPLPAPGLALALTLTMLARLASAASFFGENHLEVPVATAL...</td>\n",
       "      <td>2322</td>\n",
       "      <td>1315</td>\n",
       "      <td>1007</td>\n",
       "      <td>242</td>\n",
       "      <td>257</td>\n",
       "      <td>220</td>\n",
       "      <td>38</td>\n",
       "      <td>MQTIKCVVVGDGAVGKTCLLISYTTNKFPSEYVPTVFDNYAVTVMI...</td>\n",
       "      <td>191</td>\n",
       "      <td>99</td>\n",
       "      <td>92</td>\n",
       "      <td>25</td>\n",
       "      <td>24</td>\n",
       "      <td>18</td>\n",
       "      <td>8</td>\n",
       "    </tr>\n",
       "  </tbody>\n",
       "</table>\n",
       "</div>"
      ],
      "text/plain": [
       "                                       protein_1_seq protein_1_len  \\\n",
       "0  MESSKKMDSPGALQTNPPLKLHTDRSAGTPVFVPEQGGYKEKFVKT...           568   \n",
       "1  MVMSSYMVNSKYVDPKFPPCEEYLQGGYLGEQGADYYGGGAQGADF...           255   \n",
       "2  MNRHLWKSQLCEMVQPSGGPAADQDVLGEESPLGKPAMLHLPSEQG...           419   \n",
       "3  MAPPSTREPRVLSATSATKSDGEMVLPGFPDADSFVKFALGSVVAV...           885   \n",
       "4  MQSGPRPPLPAPGLALALTLTMLARLASAASFFGENHLEVPVATAL...          2322   \n",
       "\n",
       "  1_phobic_count 1_philic_count 1_basic_count 1_acidic_count 1_aromatic_count  \\\n",
       "0            243            325            98             73               56   \n",
       "1            136            119            39             20               32   \n",
       "2            175            244            71             73               23   \n",
       "3            424            461           143            114               92   \n",
       "4           1315           1007           242            257              220   \n",
       "\n",
       "  1_sulfur_count                                      protein_2_seq  \\\n",
       "0             44  MARPHPWWLCVLGTLVGLSATPAPKSCPERHYWAQGKLCCQMCEPG...   \n",
       "1             10  MAENVVEPGPPSAKRPKLSSPALSASASDGTDFGSLFDLEHDLPDE...   \n",
       "2             23  MEGGRRARVVIESKRNFFLGAFPTPFPAEHVELGRLGDSETAMVPG...   \n",
       "3             32  MLFYSFFKSLVGKDVVVELKNDLSICGTLHSVDQYLNIKLTDISVT...   \n",
       "4             38  MQTIKCVVVGDGAVGKTCLLISYTTNKFPSEYVPTVFDNYAVTVMI...   \n",
       "\n",
       "  protein_2_len 2_phobic_count 2_philic_count 2_basic_count 2_acidic_count  \\\n",
       "0           260            120            140            40             25   \n",
       "1          2414           1189           1225           277            178   \n",
       "2           538            252            286            77             87   \n",
       "3            95             47             48            13             12   \n",
       "4           191             99             92            25             24   \n",
       "\n",
       "  2_aromatic_count 2_sulfur_count  \n",
       "0               30             26  \n",
       "1              170            169  \n",
       "2               53             30  \n",
       "3               10              4  \n",
       "4               18              8  "
      ]
     },
     "execution_count": 201,
     "metadata": {},
     "output_type": "execute_result"
    }
   ],
   "source": [
    "df_fe.head()"
   ]
  },
  {
   "cell_type": "code",
   "execution_count": 202,
   "id": "1f622881",
   "metadata": {},
   "outputs": [
    {
     "data": {
      "text/plain": [
       "(73110, 16)"
      ]
     },
     "execution_count": 202,
     "metadata": {},
     "output_type": "execute_result"
    }
   ],
   "source": [
    "df_fe.shape"
   ]
  },
  {
   "cell_type": "code",
   "execution_count": 203,
   "id": "053dfcce",
   "metadata": {},
   "outputs": [],
   "source": [
    "df_fe_classed = pd.concat([df_fe, df['protein_interaction']], axis=1)"
   ]
  },
  {
   "cell_type": "code",
   "execution_count": 204,
   "id": "fd90d83c",
   "metadata": {},
   "outputs": [
    {
     "data": {
      "text/html": [
       "<div>\n",
       "<style scoped>\n",
       "    .dataframe tbody tr th:only-of-type {\n",
       "        vertical-align: middle;\n",
       "    }\n",
       "\n",
       "    .dataframe tbody tr th {\n",
       "        vertical-align: top;\n",
       "    }\n",
       "\n",
       "    .dataframe thead th {\n",
       "        text-align: right;\n",
       "    }\n",
       "</style>\n",
       "<table border=\"1\" class=\"dataframe\">\n",
       "  <thead>\n",
       "    <tr style=\"text-align: right;\">\n",
       "      <th></th>\n",
       "      <th>protein_1_seq</th>\n",
       "      <th>protein_1_len</th>\n",
       "      <th>1_phobic_count</th>\n",
       "      <th>1_philic_count</th>\n",
       "      <th>1_basic_count</th>\n",
       "      <th>1_acidic_count</th>\n",
       "      <th>1_aromatic_count</th>\n",
       "      <th>1_sulfur_count</th>\n",
       "      <th>protein_2_seq</th>\n",
       "      <th>protein_2_len</th>\n",
       "      <th>2_phobic_count</th>\n",
       "      <th>2_philic_count</th>\n",
       "      <th>2_basic_count</th>\n",
       "      <th>2_acidic_count</th>\n",
       "      <th>2_aromatic_count</th>\n",
       "      <th>2_sulfur_count</th>\n",
       "      <th>protein_interaction</th>\n",
       "    </tr>\n",
       "  </thead>\n",
       "  <tbody>\n",
       "    <tr>\n",
       "      <th>73105</th>\n",
       "      <td>MERFVVTAPPARNRSKTALYVTPLDRVTEFGGELHEDGGKLFCTSC...</td>\n",
       "      <td>167</td>\n",
       "      <td>70</td>\n",
       "      <td>97</td>\n",
       "      <td>32</td>\n",
       "      <td>20</td>\n",
       "      <td>15</td>\n",
       "      <td>7</td>\n",
       "      <td>MLGMIKNSLFGSVETWPWQVLSKGDKEEVAYEERACEGGKFATVEV...</td>\n",
       "      <td>189</td>\n",
       "      <td>105</td>\n",
       "      <td>84</td>\n",
       "      <td>25</td>\n",
       "      <td>26</td>\n",
       "      <td>21</td>\n",
       "      <td>9</td>\n",
       "      <td>0</td>\n",
       "    </tr>\n",
       "    <tr>\n",
       "      <th>73106</th>\n",
       "      <td>MAAGKSGGSAGEITFLEALARSESKRDGGFKNNWSFDHEEESEGDT...</td>\n",
       "      <td>1112</td>\n",
       "      <td>457</td>\n",
       "      <td>655</td>\n",
       "      <td>180</td>\n",
       "      <td>164</td>\n",
       "      <td>99</td>\n",
       "      <td>39</td>\n",
       "      <td>MSSASGLRRGHPAGGEENMTETDAFYKREMFDPAEKYKMDHRRRGI...</td>\n",
       "      <td>293</td>\n",
       "      <td>142</td>\n",
       "      <td>151</td>\n",
       "      <td>49</td>\n",
       "      <td>40</td>\n",
       "      <td>42</td>\n",
       "      <td>17</td>\n",
       "      <td>0</td>\n",
       "    </tr>\n",
       "    <tr>\n",
       "      <th>73107</th>\n",
       "      <td>MQAQQYQQQRRKFAAAFLAFIFILAAVDTAEAGKKEKPEKKVKKSD...</td>\n",
       "      <td>168</td>\n",
       "      <td>67</td>\n",
       "      <td>101</td>\n",
       "      <td>37</td>\n",
       "      <td>17</td>\n",
       "      <td>13</td>\n",
       "      <td>13</td>\n",
       "      <td>MPRGRKSRRRRNARAAEENRNNRKIQASEASETPMAASVVASTPED...</td>\n",
       "      <td>219</td>\n",
       "      <td>105</td>\n",
       "      <td>114</td>\n",
       "      <td>36</td>\n",
       "      <td>29</td>\n",
       "      <td>19</td>\n",
       "      <td>8</td>\n",
       "      <td>0</td>\n",
       "    </tr>\n",
       "    <tr>\n",
       "      <th>73108</th>\n",
       "      <td>MNQPQRMAPVGTDKELSDLLDFSMMFPLPVTNGKGRPASLAGAQFG...</td>\n",
       "      <td>654</td>\n",
       "      <td>344</td>\n",
       "      <td>310</td>\n",
       "      <td>80</td>\n",
       "      <td>69</td>\n",
       "      <td>57</td>\n",
       "      <td>15</td>\n",
       "      <td>MVPALRYLVGACGRARGRFAGGSPGACGFASGRPRPLCGGSRSAST...</td>\n",
       "      <td>463</td>\n",
       "      <td>268</td>\n",
       "      <td>195</td>\n",
       "      <td>59</td>\n",
       "      <td>46</td>\n",
       "      <td>46</td>\n",
       "      <td>21</td>\n",
       "      <td>0</td>\n",
       "    </tr>\n",
       "    <tr>\n",
       "      <th>73109</th>\n",
       "      <td>MSATGPISNYYVDSLISHDNEDLLASRFPATGAHPAAARPSGLVPD...</td>\n",
       "      <td>260</td>\n",
       "      <td>133</td>\n",
       "      <td>127</td>\n",
       "      <td>43</td>\n",
       "      <td>29</td>\n",
       "      <td>34</td>\n",
       "      <td>11</td>\n",
       "      <td>MSDYENDDECWSVLEGFRVTLTSVIDPSRITPYLRQCKVLNPDDEE...</td>\n",
       "      <td>536</td>\n",
       "      <td>222</td>\n",
       "      <td>314</td>\n",
       "      <td>101</td>\n",
       "      <td>100</td>\n",
       "      <td>34</td>\n",
       "      <td>22</td>\n",
       "      <td>0</td>\n",
       "    </tr>\n",
       "  </tbody>\n",
       "</table>\n",
       "</div>"
      ],
      "text/plain": [
       "                                           protein_1_seq protein_1_len  \\\n",
       "73105  MERFVVTAPPARNRSKTALYVTPLDRVTEFGGELHEDGGKLFCTSC...           167   \n",
       "73106  MAAGKSGGSAGEITFLEALARSESKRDGGFKNNWSFDHEEESEGDT...          1112   \n",
       "73107  MQAQQYQQQRRKFAAAFLAFIFILAAVDTAEAGKKEKPEKKVKKSD...           168   \n",
       "73108  MNQPQRMAPVGTDKELSDLLDFSMMFPLPVTNGKGRPASLAGAQFG...           654   \n",
       "73109  MSATGPISNYYVDSLISHDNEDLLASRFPATGAHPAAARPSGLVPD...           260   \n",
       "\n",
       "      1_phobic_count 1_philic_count 1_basic_count 1_acidic_count  \\\n",
       "73105             70             97            32             20   \n",
       "73106            457            655           180            164   \n",
       "73107             67            101            37             17   \n",
       "73108            344            310            80             69   \n",
       "73109            133            127            43             29   \n",
       "\n",
       "      1_aromatic_count 1_sulfur_count  \\\n",
       "73105               15              7   \n",
       "73106               99             39   \n",
       "73107               13             13   \n",
       "73108               57             15   \n",
       "73109               34             11   \n",
       "\n",
       "                                           protein_2_seq protein_2_len  \\\n",
       "73105  MLGMIKNSLFGSVETWPWQVLSKGDKEEVAYEERACEGGKFATVEV...           189   \n",
       "73106  MSSASGLRRGHPAGGEENMTETDAFYKREMFDPAEKYKMDHRRRGI...           293   \n",
       "73107  MPRGRKSRRRRNARAAEENRNNRKIQASEASETPMAASVVASTPED...           219   \n",
       "73108  MVPALRYLVGACGRARGRFAGGSPGACGFASGRPRPLCGGSRSAST...           463   \n",
       "73109  MSDYENDDECWSVLEGFRVTLTSVIDPSRITPYLRQCKVLNPDDEE...           536   \n",
       "\n",
       "      2_phobic_count 2_philic_count 2_basic_count 2_acidic_count  \\\n",
       "73105            105             84            25             26   \n",
       "73106            142            151            49             40   \n",
       "73107            105            114            36             29   \n",
       "73108            268            195            59             46   \n",
       "73109            222            314           101            100   \n",
       "\n",
       "      2_aromatic_count 2_sulfur_count  protein_interaction  \n",
       "73105               21              9                    0  \n",
       "73106               42             17                    0  \n",
       "73107               19              8                    0  \n",
       "73108               46             21                    0  \n",
       "73109               34             22                    0  "
      ]
     },
     "execution_count": 204,
     "metadata": {},
     "output_type": "execute_result"
    }
   ],
   "source": [
    "df_fe_classed.tail()"
   ]
  },
  {
   "cell_type": "code",
   "execution_count": 205,
   "id": "0f27e53d",
   "metadata": {},
   "outputs": [
    {
     "data": {
      "text/html": [
       "<div>\n",
       "<style scoped>\n",
       "    .dataframe tbody tr th:only-of-type {\n",
       "        vertical-align: middle;\n",
       "    }\n",
       "\n",
       "    .dataframe tbody tr th {\n",
       "        vertical-align: top;\n",
       "    }\n",
       "\n",
       "    .dataframe thead th {\n",
       "        text-align: right;\n",
       "    }\n",
       "</style>\n",
       "<table border=\"1\" class=\"dataframe\">\n",
       "  <thead>\n",
       "    <tr style=\"text-align: right;\">\n",
       "      <th></th>\n",
       "      <th>protein_interaction</th>\n",
       "    </tr>\n",
       "  </thead>\n",
       "  <tbody>\n",
       "    <tr>\n",
       "      <th>count</th>\n",
       "      <td>73110.000000</td>\n",
       "    </tr>\n",
       "    <tr>\n",
       "      <th>mean</th>\n",
       "      <td>0.501026</td>\n",
       "    </tr>\n",
       "    <tr>\n",
       "      <th>std</th>\n",
       "      <td>0.500002</td>\n",
       "    </tr>\n",
       "    <tr>\n",
       "      <th>min</th>\n",
       "      <td>0.000000</td>\n",
       "    </tr>\n",
       "    <tr>\n",
       "      <th>25%</th>\n",
       "      <td>0.000000</td>\n",
       "    </tr>\n",
       "    <tr>\n",
       "      <th>50%</th>\n",
       "      <td>1.000000</td>\n",
       "    </tr>\n",
       "    <tr>\n",
       "      <th>75%</th>\n",
       "      <td>1.000000</td>\n",
       "    </tr>\n",
       "    <tr>\n",
       "      <th>max</th>\n",
       "      <td>1.000000</td>\n",
       "    </tr>\n",
       "  </tbody>\n",
       "</table>\n",
       "</div>"
      ],
      "text/plain": [
       "       protein_interaction\n",
       "count         73110.000000\n",
       "mean              0.501026\n",
       "std               0.500002\n",
       "min               0.000000\n",
       "25%               0.000000\n",
       "50%               1.000000\n",
       "75%               1.000000\n",
       "max               1.000000"
      ]
     },
     "execution_count": 205,
     "metadata": {},
     "output_type": "execute_result"
    }
   ],
   "source": [
    "df_fe_classed.describe()"
   ]
  },
  {
   "cell_type": "code",
   "execution_count": 206,
   "id": "4f4b1edc",
   "metadata": {},
   "outputs": [
    {
     "data": {
      "text/plain": [
       "protein_1_seq          object\n",
       "protein_1_len          object\n",
       "1_phobic_count         object\n",
       "1_philic_count         object\n",
       "1_basic_count          object\n",
       "1_acidic_count         object\n",
       "1_aromatic_count       object\n",
       "1_sulfur_count         object\n",
       "protein_2_seq          object\n",
       "protein_2_len          object\n",
       "2_phobic_count         object\n",
       "2_philic_count         object\n",
       "2_basic_count          object\n",
       "2_acidic_count         object\n",
       "2_aromatic_count       object\n",
       "2_sulfur_count         object\n",
       "protein_interaction     int64\n",
       "dtype: object"
      ]
     },
     "execution_count": 206,
     "metadata": {},
     "output_type": "execute_result"
    }
   ],
   "source": [
    "df_fe_classed.dtypes"
   ]
  },
  {
   "cell_type": "code",
   "execution_count": 207,
   "id": "6fa148d9",
   "metadata": {},
   "outputs": [],
   "source": [
    "structure = {'protein_1_seq':'p', 'protein_1_len':'p', '1_phobic_count':'p', '1_philic_count':'p', '1_basic_count': 'p', '1_acidic_count': 'p', '1_aromatic_count':'p', '1_sulfur_count': 'p', 'protein_2_seq':'p', 'protein_2_len':'p', '2_phobic_count':'p', '2_philic_count':'p', '2_basic_count': 'p', '2_acidic_count': 'p', '2_aromatic_count':'p', '2_sulfur_count': 'p'}"
   ]
  },
  {
   "cell_type": "code",
   "execution_count": 208,
   "id": "0e87d4b6",
   "metadata": {},
   "outputs": [],
   "source": [
    "excl_list = ['protein_1_seq', 'protein_2_seq']\n",
    "conv_list = [k for k,v in structure.items() if  k not in excl_list]"
   ]
  },
  {
   "cell_type": "code",
   "execution_count": 209,
   "id": "072d1030",
   "metadata": {},
   "outputs": [
    {
     "name": "stdout",
     "output_type": "stream",
     "text": [
      "14\n"
     ]
    }
   ],
   "source": [
    "print (len(conv_list))"
   ]
  },
  {
   "cell_type": "code",
   "execution_count": 210,
   "id": "c1cef4d3",
   "metadata": {},
   "outputs": [],
   "source": [
    "int_list = []\n",
    "for x in range(14):\n",
    "    int_list.append('int64')"
   ]
  },
  {
   "cell_type": "code",
   "execution_count": 211,
   "id": "1c9d7f2b",
   "metadata": {},
   "outputs": [],
   "source": [
    "type_dict = dict(zip(conv_list, int_list))"
   ]
  },
  {
   "cell_type": "code",
   "execution_count": 212,
   "id": "6c32171b",
   "metadata": {},
   "outputs": [
    {
     "data": {
      "text/html": [
       "<div>\n",
       "<style scoped>\n",
       "    .dataframe tbody tr th:only-of-type {\n",
       "        vertical-align: middle;\n",
       "    }\n",
       "\n",
       "    .dataframe tbody tr th {\n",
       "        vertical-align: top;\n",
       "    }\n",
       "\n",
       "    .dataframe thead th {\n",
       "        text-align: right;\n",
       "    }\n",
       "</style>\n",
       "<table border=\"1\" class=\"dataframe\">\n",
       "  <thead>\n",
       "    <tr style=\"text-align: right;\">\n",
       "      <th></th>\n",
       "      <th>protein_1_seq</th>\n",
       "      <th>protein_1_len</th>\n",
       "      <th>1_phobic_count</th>\n",
       "      <th>1_philic_count</th>\n",
       "      <th>1_basic_count</th>\n",
       "      <th>1_acidic_count</th>\n",
       "      <th>1_aromatic_count</th>\n",
       "      <th>1_sulfur_count</th>\n",
       "      <th>protein_2_seq</th>\n",
       "      <th>protein_2_len</th>\n",
       "      <th>2_phobic_count</th>\n",
       "      <th>2_philic_count</th>\n",
       "      <th>2_basic_count</th>\n",
       "      <th>2_acidic_count</th>\n",
       "      <th>2_aromatic_count</th>\n",
       "      <th>2_sulfur_count</th>\n",
       "      <th>protein_interaction</th>\n",
       "    </tr>\n",
       "  </thead>\n",
       "  <tbody>\n",
       "    <tr>\n",
       "      <th>0</th>\n",
       "      <td>MESSKKMDSPGALQTNPPLKLHTDRSAGTPVFVPEQGGYKEKFVKT...</td>\n",
       "      <td>568</td>\n",
       "      <td>243</td>\n",
       "      <td>325</td>\n",
       "      <td>98</td>\n",
       "      <td>73</td>\n",
       "      <td>56</td>\n",
       "      <td>44</td>\n",
       "      <td>MARPHPWWLCVLGTLVGLSATPAPKSCPERHYWAQGKLCCQMCEPG...</td>\n",
       "      <td>260</td>\n",
       "      <td>120</td>\n",
       "      <td>140</td>\n",
       "      <td>40</td>\n",
       "      <td>25</td>\n",
       "      <td>30</td>\n",
       "      <td>26</td>\n",
       "      <td>1</td>\n",
       "    </tr>\n",
       "    <tr>\n",
       "      <th>1</th>\n",
       "      <td>MVMSSYMVNSKYVDPKFPPCEEYLQGGYLGEQGADYYGGGAQGADF...</td>\n",
       "      <td>255</td>\n",
       "      <td>136</td>\n",
       "      <td>119</td>\n",
       "      <td>39</td>\n",
       "      <td>20</td>\n",
       "      <td>32</td>\n",
       "      <td>10</td>\n",
       "      <td>MAENVVEPGPPSAKRPKLSSPALSASASDGTDFGSLFDLEHDLPDE...</td>\n",
       "      <td>2414</td>\n",
       "      <td>1189</td>\n",
       "      <td>1225</td>\n",
       "      <td>277</td>\n",
       "      <td>178</td>\n",
       "      <td>170</td>\n",
       "      <td>169</td>\n",
       "      <td>1</td>\n",
       "    </tr>\n",
       "    <tr>\n",
       "      <th>2</th>\n",
       "      <td>MNRHLWKSQLCEMVQPSGGPAADQDVLGEESPLGKPAMLHLPSEQG...</td>\n",
       "      <td>419</td>\n",
       "      <td>175</td>\n",
       "      <td>244</td>\n",
       "      <td>71</td>\n",
       "      <td>73</td>\n",
       "      <td>23</td>\n",
       "      <td>23</td>\n",
       "      <td>MEGGRRARVVIESKRNFFLGAFPTPFPAEHVELGRLGDSETAMVPG...</td>\n",
       "      <td>538</td>\n",
       "      <td>252</td>\n",
       "      <td>286</td>\n",
       "      <td>77</td>\n",
       "      <td>87</td>\n",
       "      <td>53</td>\n",
       "      <td>30</td>\n",
       "      <td>1</td>\n",
       "    </tr>\n",
       "    <tr>\n",
       "      <th>3</th>\n",
       "      <td>MAPPSTREPRVLSATSATKSDGEMVLPGFPDADSFVKFALGSVVAV...</td>\n",
       "      <td>885</td>\n",
       "      <td>424</td>\n",
       "      <td>461</td>\n",
       "      <td>143</td>\n",
       "      <td>114</td>\n",
       "      <td>92</td>\n",
       "      <td>32</td>\n",
       "      <td>MLFYSFFKSLVGKDVVVELKNDLSICGTLHSVDQYLNIKLTDISVT...</td>\n",
       "      <td>95</td>\n",
       "      <td>47</td>\n",
       "      <td>48</td>\n",
       "      <td>13</td>\n",
       "      <td>12</td>\n",
       "      <td>10</td>\n",
       "      <td>4</td>\n",
       "      <td>1</td>\n",
       "    </tr>\n",
       "    <tr>\n",
       "      <th>4</th>\n",
       "      <td>MQSGPRPPLPAPGLALALTLTMLARLASAASFFGENHLEVPVATAL...</td>\n",
       "      <td>2322</td>\n",
       "      <td>1315</td>\n",
       "      <td>1007</td>\n",
       "      <td>242</td>\n",
       "      <td>257</td>\n",
       "      <td>220</td>\n",
       "      <td>38</td>\n",
       "      <td>MQTIKCVVVGDGAVGKTCLLISYTTNKFPSEYVPTVFDNYAVTVMI...</td>\n",
       "      <td>191</td>\n",
       "      <td>99</td>\n",
       "      <td>92</td>\n",
       "      <td>25</td>\n",
       "      <td>24</td>\n",
       "      <td>18</td>\n",
       "      <td>8</td>\n",
       "      <td>1</td>\n",
       "    </tr>\n",
       "  </tbody>\n",
       "</table>\n",
       "</div>"
      ],
      "text/plain": [
       "                                       protein_1_seq protein_1_len  \\\n",
       "0  MESSKKMDSPGALQTNPPLKLHTDRSAGTPVFVPEQGGYKEKFVKT...           568   \n",
       "1  MVMSSYMVNSKYVDPKFPPCEEYLQGGYLGEQGADYYGGGAQGADF...           255   \n",
       "2  MNRHLWKSQLCEMVQPSGGPAADQDVLGEESPLGKPAMLHLPSEQG...           419   \n",
       "3  MAPPSTREPRVLSATSATKSDGEMVLPGFPDADSFVKFALGSVVAV...           885   \n",
       "4  MQSGPRPPLPAPGLALALTLTMLARLASAASFFGENHLEVPVATAL...          2322   \n",
       "\n",
       "  1_phobic_count 1_philic_count 1_basic_count 1_acidic_count 1_aromatic_count  \\\n",
       "0            243            325            98             73               56   \n",
       "1            136            119            39             20               32   \n",
       "2            175            244            71             73               23   \n",
       "3            424            461           143            114               92   \n",
       "4           1315           1007           242            257              220   \n",
       "\n",
       "  1_sulfur_count                                      protein_2_seq  \\\n",
       "0             44  MARPHPWWLCVLGTLVGLSATPAPKSCPERHYWAQGKLCCQMCEPG...   \n",
       "1             10  MAENVVEPGPPSAKRPKLSSPALSASASDGTDFGSLFDLEHDLPDE...   \n",
       "2             23  MEGGRRARVVIESKRNFFLGAFPTPFPAEHVELGRLGDSETAMVPG...   \n",
       "3             32  MLFYSFFKSLVGKDVVVELKNDLSICGTLHSVDQYLNIKLTDISVT...   \n",
       "4             38  MQTIKCVVVGDGAVGKTCLLISYTTNKFPSEYVPTVFDNYAVTVMI...   \n",
       "\n",
       "  protein_2_len 2_phobic_count 2_philic_count 2_basic_count 2_acidic_count  \\\n",
       "0           260            120            140            40             25   \n",
       "1          2414           1189           1225           277            178   \n",
       "2           538            252            286            77             87   \n",
       "3            95             47             48            13             12   \n",
       "4           191             99             92            25             24   \n",
       "\n",
       "  2_aromatic_count 2_sulfur_count  protein_interaction  \n",
       "0               30             26                    1  \n",
       "1              170            169                    1  \n",
       "2               53             30                    1  \n",
       "3               10              4                    1  \n",
       "4               18              8                    1  "
      ]
     },
     "execution_count": 212,
     "metadata": {},
     "output_type": "execute_result"
    }
   ],
   "source": [
    "df_fe_classed.head()"
   ]
  },
  {
   "cell_type": "code",
   "execution_count": 213,
   "id": "780c74ac",
   "metadata": {},
   "outputs": [
    {
     "data": {
      "text/plain": [
       "(73110, 17)"
      ]
     },
     "execution_count": 213,
     "metadata": {},
     "output_type": "execute_result"
    }
   ],
   "source": [
    "df_fe_classed.shape"
   ]
  },
  {
   "cell_type": "code",
   "execution_count": 214,
   "id": "0caec5c1",
   "metadata": {},
   "outputs": [],
   "source": [
    "df_fe_classed = df_fe_classed.astype(type_dict)"
   ]
  },
  {
   "cell_type": "code",
   "execution_count": 215,
   "id": "2a6fb939",
   "metadata": {},
   "outputs": [
    {
     "data": {
      "text/plain": [
       "protein_1_seq          object\n",
       "protein_1_len           int64\n",
       "1_phobic_count          int64\n",
       "1_philic_count          int64\n",
       "1_basic_count           int64\n",
       "1_acidic_count          int64\n",
       "1_aromatic_count        int64\n",
       "1_sulfur_count          int64\n",
       "protein_2_seq          object\n",
       "protein_2_len           int64\n",
       "2_phobic_count          int64\n",
       "2_philic_count          int64\n",
       "2_basic_count           int64\n",
       "2_acidic_count          int64\n",
       "2_aromatic_count        int64\n",
       "2_sulfur_count          int64\n",
       "protein_interaction     int64\n",
       "dtype: object"
      ]
     },
     "execution_count": 215,
     "metadata": {},
     "output_type": "execute_result"
    }
   ],
   "source": [
    "df_fe_classed.dtypes"
   ]
  },
  {
   "cell_type": "code",
   "execution_count": 216,
   "id": "2e68dca9",
   "metadata": {},
   "outputs": [
    {
     "data": {
      "text/html": [
       "<div>\n",
       "<style scoped>\n",
       "    .dataframe tbody tr th:only-of-type {\n",
       "        vertical-align: middle;\n",
       "    }\n",
       "\n",
       "    .dataframe tbody tr th {\n",
       "        vertical-align: top;\n",
       "    }\n",
       "\n",
       "    .dataframe thead th {\n",
       "        text-align: right;\n",
       "    }\n",
       "</style>\n",
       "<table border=\"1\" class=\"dataframe\">\n",
       "  <thead>\n",
       "    <tr style=\"text-align: right;\">\n",
       "      <th></th>\n",
       "      <th>protein_1_len</th>\n",
       "      <th>1_phobic_count</th>\n",
       "      <th>1_philic_count</th>\n",
       "      <th>1_basic_count</th>\n",
       "      <th>1_acidic_count</th>\n",
       "      <th>1_aromatic_count</th>\n",
       "      <th>1_sulfur_count</th>\n",
       "      <th>protein_2_len</th>\n",
       "      <th>2_phobic_count</th>\n",
       "      <th>2_philic_count</th>\n",
       "      <th>2_basic_count</th>\n",
       "      <th>2_acidic_count</th>\n",
       "      <th>2_aromatic_count</th>\n",
       "      <th>2_sulfur_count</th>\n",
       "      <th>protein_interaction</th>\n",
       "    </tr>\n",
       "  </thead>\n",
       "  <tbody>\n",
       "    <tr>\n",
       "      <th>count</th>\n",
       "      <td>73110.000000</td>\n",
       "      <td>73110.000000</td>\n",
       "      <td>73110.000000</td>\n",
       "      <td>73110.000000</td>\n",
       "      <td>73110.000000</td>\n",
       "      <td>73110.000000</td>\n",
       "      <td>73110.000000</td>\n",
       "      <td>73110.000000</td>\n",
       "      <td>73110.000000</td>\n",
       "      <td>73110.000000</td>\n",
       "      <td>73110.000000</td>\n",
       "      <td>73110.000000</td>\n",
       "      <td>73110.000000</td>\n",
       "      <td>73110.000000</td>\n",
       "      <td>73110.000000</td>\n",
       "    </tr>\n",
       "    <tr>\n",
       "      <th>mean</th>\n",
       "      <td>622.640405</td>\n",
       "      <td>302.293325</td>\n",
       "      <td>320.347039</td>\n",
       "      <td>89.859171</td>\n",
       "      <td>77.635111</td>\n",
       "      <td>59.058898</td>\n",
       "      <td>26.478772</td>\n",
       "      <td>582.975831</td>\n",
       "      <td>289.114417</td>\n",
       "      <td>293.859198</td>\n",
       "      <td>81.664547</td>\n",
       "      <td>74.075161</td>\n",
       "      <td>56.682451</td>\n",
       "      <td>25.351853</td>\n",
       "      <td>0.501026</td>\n",
       "    </tr>\n",
       "    <tr>\n",
       "      <th>std</th>\n",
       "      <td>697.028588</td>\n",
       "      <td>337.818133</td>\n",
       "      <td>364.455571</td>\n",
       "      <td>101.529708</td>\n",
       "      <td>96.610424</td>\n",
       "      <td>61.634979</td>\n",
       "      <td>29.623921</td>\n",
       "      <td>652.549446</td>\n",
       "      <td>317.393788</td>\n",
       "      <td>339.597700</td>\n",
       "      <td>91.916066</td>\n",
       "      <td>89.872794</td>\n",
       "      <td>60.120223</td>\n",
       "      <td>28.544362</td>\n",
       "      <td>0.500002</td>\n",
       "    </tr>\n",
       "    <tr>\n",
       "      <th>min</th>\n",
       "      <td>24.000000</td>\n",
       "      <td>6.000000</td>\n",
       "      <td>10.000000</td>\n",
       "      <td>2.000000</td>\n",
       "      <td>0.000000</td>\n",
       "      <td>0.000000</td>\n",
       "      <td>1.000000</td>\n",
       "      <td>24.000000</td>\n",
       "      <td>10.000000</td>\n",
       "      <td>10.000000</td>\n",
       "      <td>2.000000</td>\n",
       "      <td>0.000000</td>\n",
       "      <td>0.000000</td>\n",
       "      <td>1.000000</td>\n",
       "      <td>0.000000</td>\n",
       "    </tr>\n",
       "    <tr>\n",
       "      <th>25%</th>\n",
       "      <td>305.000000</td>\n",
       "      <td>152.000000</td>\n",
       "      <td>148.000000</td>\n",
       "      <td>43.000000</td>\n",
       "      <td>34.000000</td>\n",
       "      <td>28.000000</td>\n",
       "      <td>11.000000</td>\n",
       "      <td>274.000000</td>\n",
       "      <td>140.000000</td>\n",
       "      <td>133.000000</td>\n",
       "      <td>38.000000</td>\n",
       "      <td>33.000000</td>\n",
       "      <td>26.000000</td>\n",
       "      <td>11.000000</td>\n",
       "      <td>0.000000</td>\n",
       "    </tr>\n",
       "    <tr>\n",
       "      <th>50%</th>\n",
       "      <td>465.000000</td>\n",
       "      <td>228.000000</td>\n",
       "      <td>235.000000</td>\n",
       "      <td>66.000000</td>\n",
       "      <td>56.000000</td>\n",
       "      <td>47.000000</td>\n",
       "      <td>19.000000</td>\n",
       "      <td>432.000000</td>\n",
       "      <td>222.000000</td>\n",
       "      <td>212.000000</td>\n",
       "      <td>62.000000</td>\n",
       "      <td>53.000000</td>\n",
       "      <td>44.000000</td>\n",
       "      <td>19.000000</td>\n",
       "      <td>1.000000</td>\n",
       "    </tr>\n",
       "    <tr>\n",
       "      <th>75%</th>\n",
       "      <td>743.000000</td>\n",
       "      <td>357.000000</td>\n",
       "      <td>387.000000</td>\n",
       "      <td>109.000000</td>\n",
       "      <td>93.000000</td>\n",
       "      <td>74.000000</td>\n",
       "      <td>32.000000</td>\n",
       "      <td>708.000000</td>\n",
       "      <td>345.000000</td>\n",
       "      <td>358.000000</td>\n",
       "      <td>101.000000</td>\n",
       "      <td>91.000000</td>\n",
       "      <td>69.000000</td>\n",
       "      <td>31.000000</td>\n",
       "      <td>1.000000</td>\n",
       "    </tr>\n",
       "    <tr>\n",
       "      <th>max</th>\n",
       "      <td>33423.000000</td>\n",
       "      <td>16370.000000</td>\n",
       "      <td>17053.000000</td>\n",
       "      <td>4965.000000</td>\n",
       "      <td>4756.000000</td>\n",
       "      <td>2786.000000</td>\n",
       "      <td>883.000000</td>\n",
       "      <td>33423.000000</td>\n",
       "      <td>16370.000000</td>\n",
       "      <td>17053.000000</td>\n",
       "      <td>4965.000000</td>\n",
       "      <td>4756.000000</td>\n",
       "      <td>2786.000000</td>\n",
       "      <td>883.000000</td>\n",
       "      <td>1.000000</td>\n",
       "    </tr>\n",
       "  </tbody>\n",
       "</table>\n",
       "</div>"
      ],
      "text/plain": [
       "       protein_1_len  1_phobic_count  1_philic_count  1_basic_count  \\\n",
       "count   73110.000000    73110.000000    73110.000000   73110.000000   \n",
       "mean      622.640405      302.293325      320.347039      89.859171   \n",
       "std       697.028588      337.818133      364.455571     101.529708   \n",
       "min        24.000000        6.000000       10.000000       2.000000   \n",
       "25%       305.000000      152.000000      148.000000      43.000000   \n",
       "50%       465.000000      228.000000      235.000000      66.000000   \n",
       "75%       743.000000      357.000000      387.000000     109.000000   \n",
       "max     33423.000000    16370.000000    17053.000000    4965.000000   \n",
       "\n",
       "       1_acidic_count  1_aromatic_count  1_sulfur_count  protein_2_len  \\\n",
       "count    73110.000000      73110.000000    73110.000000   73110.000000   \n",
       "mean        77.635111         59.058898       26.478772     582.975831   \n",
       "std         96.610424         61.634979       29.623921     652.549446   \n",
       "min          0.000000          0.000000        1.000000      24.000000   \n",
       "25%         34.000000         28.000000       11.000000     274.000000   \n",
       "50%         56.000000         47.000000       19.000000     432.000000   \n",
       "75%         93.000000         74.000000       32.000000     708.000000   \n",
       "max       4756.000000       2786.000000      883.000000   33423.000000   \n",
       "\n",
       "       2_phobic_count  2_philic_count  2_basic_count  2_acidic_count  \\\n",
       "count    73110.000000    73110.000000   73110.000000    73110.000000   \n",
       "mean       289.114417      293.859198      81.664547       74.075161   \n",
       "std        317.393788      339.597700      91.916066       89.872794   \n",
       "min         10.000000       10.000000       2.000000        0.000000   \n",
       "25%        140.000000      133.000000      38.000000       33.000000   \n",
       "50%        222.000000      212.000000      62.000000       53.000000   \n",
       "75%        345.000000      358.000000     101.000000       91.000000   \n",
       "max      16370.000000    17053.000000    4965.000000     4756.000000   \n",
       "\n",
       "       2_aromatic_count  2_sulfur_count  protein_interaction  \n",
       "count      73110.000000    73110.000000         73110.000000  \n",
       "mean          56.682451       25.351853             0.501026  \n",
       "std           60.120223       28.544362             0.500002  \n",
       "min            0.000000        1.000000             0.000000  \n",
       "25%           26.000000       11.000000             0.000000  \n",
       "50%           44.000000       19.000000             1.000000  \n",
       "75%           69.000000       31.000000             1.000000  \n",
       "max         2786.000000      883.000000             1.000000  "
      ]
     },
     "execution_count": 216,
     "metadata": {},
     "output_type": "execute_result"
    }
   ],
   "source": [
    "df_fe_classed.describe()"
   ]
  },
  {
   "cell_type": "code",
   "execution_count": 217,
   "id": "66b3c8d5",
   "metadata": {},
   "outputs": [],
   "source": [
    "df_fe_classed.to_csv('feature_engineered.csv')"
   ]
  },
  {
   "cell_type": "markdown",
   "id": "37523b6f",
   "metadata": {},
   "source": [
    "Mandatory NAN check"
   ]
  },
  {
   "cell_type": "code",
   "execution_count": 218,
   "id": "746f5953",
   "metadata": {},
   "outputs": [
    {
     "data": {
      "text/plain": [
       "protein_1_seq          0\n",
       "protein_1_len          0\n",
       "1_phobic_count         0\n",
       "1_philic_count         0\n",
       "1_basic_count          0\n",
       "1_acidic_count         0\n",
       "1_aromatic_count       0\n",
       "1_sulfur_count         0\n",
       "protein_2_seq          0\n",
       "protein_2_len          0\n",
       "2_phobic_count         0\n",
       "2_philic_count         0\n",
       "2_basic_count          0\n",
       "2_acidic_count         0\n",
       "2_aromatic_count       0\n",
       "2_sulfur_count         0\n",
       "protein_interaction    0\n",
       "dtype: int64"
      ]
     },
     "execution_count": 218,
     "metadata": {},
     "output_type": "execute_result"
    }
   ],
   "source": [
    "df_fe_classed.isna().sum()"
   ]
  },
  {
   "cell_type": "markdown",
   "id": "9a84bca5",
   "metadata": {},
   "source": [
    "# 2.) Composition Visualization"
   ]
  },
  {
   "cell_type": "markdown",
   "id": "b4ef3897",
   "metadata": {},
   "source": [
    "## if resuming from this position use the cell below:"
   ]
  },
  {
   "cell_type": "code",
   "execution_count": 7,
   "id": "f522896a",
   "metadata": {},
   "outputs": [],
   "source": [
    "df_fe_classed = pd.read_csv('feature_engineered.csv')"
   ]
  },
  {
   "cell_type": "code",
   "execution_count": 9,
   "id": "a20171bf",
   "metadata": {},
   "outputs": [],
   "source": [
    "df_fe_classed = df_fe_classed.drop(columns='Unnamed: 0')"
   ]
  },
  {
   "cell_type": "code",
   "execution_count": 12,
   "id": "d635f3c0",
   "metadata": {},
   "outputs": [],
   "source": [
    "df_fe_classed = df_fe_classed.rename(columns={'protein_1_len':'1_protein_len', 'protein_2_len':'2_protein_len'})"
   ]
  },
  {
   "cell_type": "code",
   "execution_count": 13,
   "id": "48fc9960",
   "metadata": {},
   "outputs": [],
   "source": [
    "one_indexes = []\n",
    "for x in range(len(df)):\n",
    "    if df['protein_interaction'][x] == 1:\n",
    "        one_indexes.append(x)"
   ]
  },
  {
   "cell_type": "code",
   "execution_count": 14,
   "id": "6b14d18a",
   "metadata": {},
   "outputs": [],
   "source": [
    "zero_indexes = []\n",
    "for x in range(len(df)):\n",
    "    if df['protein_interaction'][x] == 0:\n",
    "        zero_indexes.append(x)"
   ]
  },
  {
   "cell_type": "code",
   "execution_count": 17,
   "id": "a2d584e0",
   "metadata": {},
   "outputs": [],
   "source": [
    "def histogrammer(df):\n",
    "    \n",
    "    col_names = list(df.columns)\n",
    "\n",
    "    \n",
    "    for x in range(7):\n",
    "        fig, (ax1, ax2) = plt.subplots(2, figsize=(8,8), sharex=True, sharey=True)\n",
    "\n",
    "        ax1.set_title(f'{col_names[x+1][2:]}')\n",
    "        ax1.hist(pd.concat([df_fe_classed.iloc[one_indexes, x+1], df_fe_classed.iloc[one_indexes, x+9]], axis=0))\n",
    "        ax1.set_xlabel('amount in interactive protein pairs')\n",
    "        ax1.set_ylabel('counts')\n",
    "        ax2.hist(pd.concat([df_fe_classed.iloc[zero_indexes, x+1], df_fe_classed.iloc[zero_indexes, x+9]], axis=0))\n",
    "        ax2.set_xlabel('amount in non interactive protein pairs')\n",
    "        ax2.set_ylabel('counts')"
   ]
  },
  {
   "cell_type": "code",
   "execution_count": 18,
   "id": "3d039c93",
   "metadata": {},
   "outputs": [
    {
     "data": {
      "image/png": "[encoded data removed]",
      "text/plain": [
       "<Figure size 800x800 with 2 Axes>"
      ]
     },
     "metadata": {},
     "output_type": "display_data"
    },
    {
     "data": {
      "image/png": "[encoded data removed]",
      "text/plain": [
       "<Figure size 800x800 with 2 Axes>"
      ]
     },
     "metadata": {},
     "output_type": "display_data"
    },
    {
     "data": {
      "image/png": "[encoded data removed]",
      "text/plain": [
       "<Figure size 800x800 with 2 Axes>"
      ]
     },
     "metadata": {},
     "output_type": "display_data"
    },
    {
     "data": {
      "image/png": "[encoded data removed]",
      "text/plain": [
       "<Figure size 800x800 with 2 Axes>"
      ]
     },
     "metadata": {},
     "output_type": "display_data"
    },
    {
     "data": {
      "image/png": "[encoded data removed]",
      "text/plain": [
       "<Figure size 800x800 with 2 Axes>"
      ]
     },
     "metadata": {},
     "output_type": "display_data"
    },
    {
     "data": {
      "image/png": "[encoded data removed]",
      "text/plain": [
       "<Figure size 800x800 with 2 Axes>"
      ]
     },
     "metadata": {},
     "output_type": "display_data"
    },
    {
     "data": {
      "image/png": "[encoded data removed]",
      "text/plain": [
       "<Figure size 800x800 with 2 Axes>"
      ]
     },
     "metadata": {},
     "output_type": "display_data"
    }
   ],
   "source": [
    "visualization = histogrammer(df_fe_classed)"
   ]
  },
  {
   "cell_type": "markdown",
   "id": "e7a42b7d",
   "metadata": {},
   "source": [
    "Based on the graphings of the proteins in the interactive and non interactive groupings: it seems that there are typically a wider distribution of amino acid residue amounts in the non interactive visualizations.  There are no Gaussian distributions it appears.  Since the skew is to the left, an inverse or log transformation could change the view of the data."
   ]
  },
  {
   "cell_type": "markdown",
   "id": "5534b6cd",
   "metadata": {},
   "source": [
    "# 3.) Inferential Statistics"
   ]
  },
  {
   "cell_type": "markdown",
   "id": "9c08294f",
   "metadata": {},
   "source": [
    "a.) Heatmap"
   ]
  },
  {
   "cell_type": "code",
   "execution_count": 9,
   "id": "33bfecb3",
   "metadata": {},
   "outputs": [
    {
     "data": {
      "text/plain": [
       "Index(['protein_1_seq', 'protein_1_len', '1_phobic_count', '1_philic_count',\n",
       "       '1_basic_count', '1_acidic_count', '1_aromatic_count', '1_sulfur_count',\n",
       "       'protein_2_seq', 'protein_2_len', '2_phobic_count', '2_philic_count',\n",
       "       '2_basic_count', '2_acidic_count', '2_aromatic_count', '2_sulfur_count',\n",
       "       'protein_interaction'],\n",
       "      dtype='object')"
      ]
     },
     "execution_count": 9,
     "metadata": {},
     "output_type": "execute_result"
    }
   ],
   "source": [
    "df_fe_classed.columns"
   ]
  },
  {
   "cell_type": "code",
   "execution_count": 19,
   "id": "d8654222",
   "metadata": {},
   "outputs": [],
   "source": [
    "not_numeric = ['protein_1_seq','protein_2_seq']\n",
    "numeric = [x for x in df_fe_classed.columns if x not in not_numeric]"
   ]
  },
  {
   "cell_type": "code",
   "execution_count": 20,
   "id": "93af87fc",
   "metadata": {},
   "outputs": [
    {
     "name": "stdout",
     "output_type": "stream",
     "text": [
      "                     1_protein_len  1_phobic_count  1_philic_count  \\\n",
      "1_protein_len             1.000000        0.991940        0.993079   \n",
      "1_phobic_count            0.991940        1.000000        0.970194   \n",
      "1_philic_count            0.993079        0.970194        1.000000   \n",
      "1_basic_count             0.973983        0.951939        0.980398   \n",
      "1_acidic_count            0.962597        0.938374        0.971196   \n",
      "1_aromatic_count          0.950171        0.948646        0.937910   \n",
      "1_sulfur_count            0.874021        0.866547        0.868370   \n",
      "2_protein_len             0.060246        0.061866        0.057878   \n",
      "2_phobic_count            0.058528        0.060769        0.055608   \n",
      "2_philic_count            0.061066        0.062084        0.059243   \n",
      "2_basic_count             0.060063        0.060509        0.058785   \n",
      "2_acidic_count            0.061048        0.061734        0.059535   \n",
      "2_aromatic_count          0.056782        0.058986        0.053921   \n",
      "2_sulfur_count            0.051413        0.053316        0.048909   \n",
      "protein_interaction       0.067054        0.076325        0.057495   \n",
      "\n",
      "                     1_basic_count  1_acidic_count  1_aromatic_count  \\\n",
      "1_protein_len             0.973983        0.962597          0.950171   \n",
      "1_phobic_count            0.951939        0.938374          0.948646   \n",
      "1_philic_count            0.980398        0.971196          0.937910   \n",
      "1_basic_count             1.000000        0.972069          0.926248   \n",
      "1_acidic_count            0.972069        1.000000          0.903952   \n",
      "1_aromatic_count          0.926248        0.903952          1.000000   \n",
      "1_sulfur_count            0.824982        0.805351          0.872956   \n",
      "2_protein_len             0.051738        0.057857          0.062699   \n",
      "2_phobic_count            0.049165        0.055227          0.061969   \n",
      "2_philic_count            0.053465        0.059559          0.062562   \n",
      "2_basic_count             0.055230        0.060624          0.060935   \n",
      "2_acidic_count            0.055855        0.061580          0.062163   \n",
      "2_aromatic_count          0.048431        0.054670          0.062116   \n",
      "2_sulfur_count            0.040730        0.045903          0.056748   \n",
      "protein_interaction       0.033991        0.065996          0.086877   \n",
      "\n",
      "                     1_sulfur_count  2_protein_len  2_phobic_count  \\\n",
      "1_protein_len              0.874021       0.060246        0.058528   \n",
      "1_phobic_count             0.866547       0.061866        0.060769   \n",
      "1_philic_count             0.868370       0.057878        0.055608   \n",
      "1_basic_count              0.824982       0.051738        0.049165   \n",
      "1_acidic_count             0.805351       0.057857        0.055227   \n",
      "1_aromatic_count           0.872956       0.062699        0.061969   \n",
      "1_sulfur_count             1.000000       0.060618        0.059894   \n",
      "2_protein_len              0.060618       1.000000        0.992766   \n",
      "2_phobic_count             0.059894       0.992766        1.000000   \n",
      "2_philic_count             0.060503       0.993684        0.973022   \n",
      "2_basic_count              0.055171       0.977511        0.959995   \n",
      "2_acidic_count             0.056618       0.969193        0.946309   \n",
      "2_aromatic_count           0.056319       0.956113        0.954677   \n",
      "2_sulfur_count             0.060810       0.860086        0.849510   \n",
      "protein_interaction        0.088366       0.141524        0.133091   \n",
      "\n",
      "                     2_philic_count  2_basic_count  2_acidic_count  \\\n",
      "1_protein_len              0.061066       0.060063        0.061048   \n",
      "1_phobic_count             0.062084       0.060509        0.061734   \n",
      "1_philic_count             0.059243       0.058785        0.059535   \n",
      "1_basic_count              0.053465       0.055230        0.055855   \n",
      "1_acidic_count             0.059559       0.060624        0.061580   \n",
      "1_aromatic_count           0.062562       0.060935        0.062163   \n",
      "1_sulfur_count             0.060503       0.055171        0.056618   \n",
      "2_protein_len              0.993684       0.977511        0.969193   \n",
      "2_phobic_count             0.973022       0.959995        0.946309   \n",
      "2_philic_count             1.000000       0.981099        0.977906   \n",
      "2_basic_count              0.981099       1.000000        0.974438   \n",
      "2_acidic_count             0.977906       0.974438        1.000000   \n",
      "2_aromatic_count           0.944952       0.939375        0.921426   \n",
      "2_sulfur_count             0.858723       0.810117        0.804053   \n",
      "protein_interaction        0.147561       0.125619        0.123041   \n",
      "\n",
      "                     2_aromatic_count  2_sulfur_count  protein_interaction  \n",
      "1_protein_len                0.056782        0.051413             0.067054  \n",
      "1_phobic_count               0.058986        0.053316             0.076325  \n",
      "1_philic_count               0.053921        0.048909             0.057495  \n",
      "1_basic_count                0.048431        0.040730             0.033991  \n",
      "1_acidic_count               0.054670        0.045903             0.065996  \n",
      "1_aromatic_count             0.062116        0.056748             0.086877  \n",
      "1_sulfur_count               0.056319        0.060810             0.088366  \n",
      "2_protein_len                0.956113        0.860086             0.141524  \n",
      "2_phobic_count               0.954677        0.849510             0.133091  \n",
      "2_philic_count               0.944952        0.858723             0.147561  \n",
      "2_basic_count                0.939375        0.810117             0.125619  \n",
      "2_acidic_count               0.921426        0.804053             0.123041  \n",
      "2_aromatic_count             1.000000        0.862394             0.127262  \n",
      "2_sulfur_count               0.862394        1.000000             0.148538  \n",
      "protein_interaction          0.127262        0.148538             1.000000  \n"
     ]
    }
   ],
   "source": [
    "corr = df_fe_classed[numeric].corr()\n",
    "print (corr)"
   ]
  },
  {
   "cell_type": "code",
   "execution_count": 21,
   "id": "3863a19b",
   "metadata": {},
   "outputs": [
    {
     "data": {
      "text/plain": [
       "<Axes: >"
      ]
     },
     "execution_count": 21,
     "metadata": {},
     "output_type": "execute_result"
    },
    {
     "data": {
      "image/png": "[encoded data removed]",
      "text/plain": [
       "<Figure size 640x480 with 2 Axes>"
      ]
     },
     "metadata": {},
     "output_type": "display_data"
    }
   ],
   "source": [
    "sns.heatmap(corr)"
   ]
  },
  {
   "cell_type": "markdown",
   "id": "e8b0552a",
   "metadata": {},
   "source": [
    "It seems that protein 1's compositions are highly highly correlated with all of protein 1's numeric features.  The same is true for the protein 2's numeric compositions.\n",
    "\n"
   ]
  },
  {
   "cell_type": "markdown",
   "id": "469c0937",
   "metadata": {},
   "source": [
    "b.) Chi Square Tests:\n",
    "\n",
    "lets draft this chi square test comparing the total phobic/philic/ basic/ acidic/ aromatic/ sulfur counts in the two categories: protein interaction present vs no protein interaction present (table will be 6 x 2)"
   ]
  },
  {
   "cell_type": "code",
   "execution_count": 34,
   "id": "895d563b",
   "metadata": {},
   "outputs": [],
   "source": [
    "phobic_1 = df_fe_classed['1_phobic_count'].groupby(df_fe_classed['protein_interaction']).sum()\n",
    "philic_1 = df_fe_classed['1_philic_count'].groupby(df_fe_classed['protein_interaction']).sum()\n",
    "basic_1 = df_fe_classed['1_basic_count'].groupby(df_fe_classed['protein_interaction']).sum()\n",
    "acidic_1 = df_fe_classed['1_acidic_count'].groupby(df_fe_classed['protein_interaction']).sum()\n",
    "aromatic_1 = df_fe_classed['1_aromatic_count'].groupby(df_fe_classed['protein_interaction']).sum()\n",
    "sulfur_1 = df_fe_classed['1_sulfur_count'].groupby(df_fe_classed['protein_interaction']).sum()"
   ]
  },
  {
   "cell_type": "code",
   "execution_count": 35,
   "id": "2a746bd3",
   "metadata": {},
   "outputs": [],
   "source": [
    "phobic_2 = df_fe_classed['2_phobic_count'].groupby(df_fe_classed['protein_interaction']).sum()\n",
    "philic_2 = df_fe_classed['2_philic_count'].groupby(df_fe_classed['protein_interaction']).sum()\n",
    "basic_2 = df_fe_classed['2_basic_count'].groupby(df_fe_classed['protein_interaction']).sum()\n",
    "acidic_2 = df_fe_classed['2_acidic_count'].groupby(df_fe_classed['protein_interaction']).sum()\n",
    "aromatic_2 = df_fe_classed['2_aromatic_count'].groupby(df_fe_classed['protein_interaction']).sum()\n",
    "sulfur_2 = df_fe_classed['2_sulfur_count'].groupby(df_fe_classed['protein_interaction']).sum()"
   ]
  },
  {
   "cell_type": "code",
   "execution_count": 40,
   "id": "16f188ee",
   "metadata": {},
   "outputs": [],
   "source": [
    "phobic_no = phobic_1.iloc[0] + phobic_2.iloc[0] \n",
    "phobic_yes = phobic_1.iloc[1] + phobic_2.iloc[1] \n",
    "philic_no = philic_1.iloc[0] + philic_2.iloc[0] \n",
    "philic_yes = philic_1.iloc[1] + philic_2.iloc[1] \n",
    "basic_no = basic_1.iloc[0] + basic_2.iloc[0]\n",
    "basic_yes = basic_1.iloc[1] + basic_2.iloc[1]\n",
    "acidic_no = acidic_1.iloc[0] + acidic_2.iloc[0]\n",
    "acidic_yes = acidic_1.iloc[1] + acidic_2.iloc[1]\n",
    "aromatic_no = aromatic_1.iloc[0] + aromatic_2.iloc[0]\n",
    "aromatic_yes = aromatic_1.iloc[1] +aromatic_2.iloc[1]\n",
    "sulfur_no = sulfur_1.iloc[0] + sulfur_2.iloc[0]\n",
    "sulfur_yes= sulfur_1.iloc[1] + sulfur_2.iloc[1]"
   ]
  },
  {
   "cell_type": "code",
   "execution_count": 50,
   "id": "0bf54ed6",
   "metadata": {},
   "outputs": [],
   "source": [
    "chi_observed = [phobic_no, phobic_yes, philic_no, philic_yes, basic_no, basic_yes, acidic_no, acidic_yes, aromatic_no, aromatic_yes, sulfur_no, sulfur_yes]"
   ]
  },
  {
   "cell_type": "code",
   "execution_count": 60,
   "id": "8ca18b55",
   "metadata": {},
   "outputs": [],
   "source": [
    "def exp_values(chi_observed):\n",
    "    \n",
    "    chi_exp = []\n",
    "    odd_list = [x for x in chi_observed if chi_observed.index(x)%2 != 0]\n",
    "    even_list = [y for y in chi_observed if chi_observed.index(y)%2 == 0]\n",
    "    iter_list = [sum(odd_list),sum(even_list)]\n",
    "    \n",
    "    for z in range(6):\n",
    "        \n",
    "        round_val = 2*z\n",
    "        no_val = ((chi_observed[round_val] + chi_observed[round_val+1])/sum(chi_observed)) * iter_list[0]\n",
    "        yes_val = ((chi_observed[round_val] + chi_observed[round_val+1])/sum(chi_observed)) * iter_list[1]\n",
    "        chi_exp.append(yes_val)\n",
    "        chi_exp.append(no_val)\n",
    "        \n",
    "    return chi_exp\n",
    "        "
   ]
  },
  {
   "cell_type": "code",
   "execution_count": 61,
   "id": "107c0e6e",
   "metadata": {},
   "outputs": [],
   "source": [
    "chi_exp = exp_values(chi_observed)"
   ]
  },
  {
   "cell_type": "code",
   "execution_count": 62,
   "id": "fb94b12c",
   "metadata": {},
   "outputs": [
    {
     "name": "stdout",
     "output_type": "stream",
     "text": [
      "[19135576.4601002, 24102243.5398998, 19873244.09858295, 25031373.90141705, 5549817.80375898, 6990281.196241021, 4908734.377892014, 6182803.622107986, 3744924.6439551967, 4716925.356044803, 1677030.6157106606, 2112306.384289339]\n"
     ]
    }
   ],
   "source": [
    "print (chi_exp)"
   ]
  },
  {
   "cell_type": "code",
   "execution_count": 63,
   "id": "a7d45c0b",
   "metadata": {},
   "outputs": [
    {
     "name": "stdout",
     "output_type": "stream",
     "text": [
      "[19087880, 24149940, 19808466, 25096152, 5708956, 6831143, 4897098, 6194440, 3746826, 4715024, 1640102, 2149235]\n"
     ]
    }
   ],
   "source": [
    "print (chi_observed)"
   ]
  },
  {
   "cell_type": "code",
   "execution_count": 65,
   "id": "2c17d447",
   "metadata": {},
   "outputs": [],
   "source": [
    "def test_value(chi_observed, chi_exp):\n",
    "    \n",
    "    nums = []\n",
    "    \n",
    "    for x in range(12):\n",
    "        val = ((chi_observed[x]-chi_exp[x])**2)/(chi_exp[x])\n",
    "        nums.append(val)\n",
    "        \n",
    "        \n",
    "    test_value = sum(nums)\n",
    "    \n",
    "    return (test_value)"
   ]
  },
  {
   "cell_type": "code",
   "execution_count": 66,
   "id": "ef9d3d99",
   "metadata": {},
   "outputs": [],
   "source": [
    "test_value = test_value(chi_observed, chi_exp)"
   ]
  },
  {
   "cell_type": "code",
   "execution_count": 67,
   "id": "82df4d5e",
   "metadata": {},
   "outputs": [
    {
     "name": "stdout",
     "output_type": "stream",
     "text": [
      "10288.150437390648\n"
     ]
    }
   ],
   "source": [
    "print (test_value)"
   ]
  },
  {
   "cell_type": "markdown",
   "id": "79291eea",
   "metadata": {},
   "source": [
    "using the link below: https://www.bmj.com/sites/default/files/attachments/resources/2011/08/appendix-table-c.pdf\n",
    "\n",
    "you see that with 5 degrees of freedom the value for a p value of .001 is 20.517; thus the null-hypothesis, that the two groups were not different, can be rejected; the alternative hypothesis (that the groups are different) can be considered\n"
   ]
  },
  {
   "cell_type": "markdown",
   "id": "385f9219",
   "metadata": {},
   "source": [
    "the distribution of the data may be impacting the ability of this test to tell an accurate story however"
   ]
  },
  {
   "cell_type": "markdown",
   "id": "dd0a1579",
   "metadata": {},
   "source": [
    "c.) z-tests for the average of all of the values within each category (phobic,philic, basic, etc.) and the classification of protein interaction present or not present\n",
    "\n",
    "lets choose 1.96 as the test threshold for significant difference in means between the differesn groups for each category"
   ]
  },
  {
   "cell_type": "code",
   "execution_count": 68,
   "id": "5a26d41c",
   "metadata": {},
   "outputs": [
    {
     "data": {
      "text/html": [
       "<div>\n",
       "<style scoped>\n",
       "    .dataframe tbody tr th:only-of-type {\n",
       "        vertical-align: middle;\n",
       "    }\n",
       "\n",
       "    .dataframe tbody tr th {\n",
       "        vertical-align: top;\n",
       "    }\n",
       "\n",
       "    .dataframe thead th {\n",
       "        text-align: right;\n",
       "    }\n",
       "</style>\n",
       "<table border=\"1\" class=\"dataframe\">\n",
       "  <thead>\n",
       "    <tr style=\"text-align: right;\">\n",
       "      <th></th>\n",
       "      <th>protein_1_seq</th>\n",
       "      <th>1_protein_len</th>\n",
       "      <th>1_phobic_count</th>\n",
       "      <th>1_philic_count</th>\n",
       "      <th>1_basic_count</th>\n",
       "      <th>1_acidic_count</th>\n",
       "      <th>1_aromatic_count</th>\n",
       "      <th>1_sulfur_count</th>\n",
       "      <th>protein_2_seq</th>\n",
       "      <th>2_protein_len</th>\n",
       "      <th>2_phobic_count</th>\n",
       "      <th>2_philic_count</th>\n",
       "      <th>2_basic_count</th>\n",
       "      <th>2_acidic_count</th>\n",
       "      <th>2_aromatic_count</th>\n",
       "      <th>2_sulfur_count</th>\n",
       "      <th>protein_interaction</th>\n",
       "    </tr>\n",
       "  </thead>\n",
       "  <tbody>\n",
       "    <tr>\n",
       "      <th>0</th>\n",
       "      <td>MESSKKMDSPGALQTNPPLKLHTDRSAGTPVFVPEQGGYKEKFVKT...</td>\n",
       "      <td>568</td>\n",
       "      <td>243</td>\n",
       "      <td>325</td>\n",
       "      <td>98</td>\n",
       "      <td>73</td>\n",
       "      <td>56</td>\n",
       "      <td>44</td>\n",
       "      <td>MARPHPWWLCVLGTLVGLSATPAPKSCPERHYWAQGKLCCQMCEPG...</td>\n",
       "      <td>260</td>\n",
       "      <td>120</td>\n",
       "      <td>140</td>\n",
       "      <td>40</td>\n",
       "      <td>25</td>\n",
       "      <td>30</td>\n",
       "      <td>26</td>\n",
       "      <td>1</td>\n",
       "    </tr>\n",
       "    <tr>\n",
       "      <th>1</th>\n",
       "      <td>MVMSSYMVNSKYVDPKFPPCEEYLQGGYLGEQGADYYGGGAQGADF...</td>\n",
       "      <td>255</td>\n",
       "      <td>136</td>\n",
       "      <td>119</td>\n",
       "      <td>39</td>\n",
       "      <td>20</td>\n",
       "      <td>32</td>\n",
       "      <td>10</td>\n",
       "      <td>MAENVVEPGPPSAKRPKLSSPALSASASDGTDFGSLFDLEHDLPDE...</td>\n",
       "      <td>2414</td>\n",
       "      <td>1189</td>\n",
       "      <td>1225</td>\n",
       "      <td>277</td>\n",
       "      <td>178</td>\n",
       "      <td>170</td>\n",
       "      <td>169</td>\n",
       "      <td>1</td>\n",
       "    </tr>\n",
       "    <tr>\n",
       "      <th>2</th>\n",
       "      <td>MNRHLWKSQLCEMVQPSGGPAADQDVLGEESPLGKPAMLHLPSEQG...</td>\n",
       "      <td>419</td>\n",
       "      <td>175</td>\n",
       "      <td>244</td>\n",
       "      <td>71</td>\n",
       "      <td>73</td>\n",
       "      <td>23</td>\n",
       "      <td>23</td>\n",
       "      <td>MEGGRRARVVIESKRNFFLGAFPTPFPAEHVELGRLGDSETAMVPG...</td>\n",
       "      <td>538</td>\n",
       "      <td>252</td>\n",
       "      <td>286</td>\n",
       "      <td>77</td>\n",
       "      <td>87</td>\n",
       "      <td>53</td>\n",
       "      <td>30</td>\n",
       "      <td>1</td>\n",
       "    </tr>\n",
       "    <tr>\n",
       "      <th>3</th>\n",
       "      <td>MAPPSTREPRVLSATSATKSDGEMVLPGFPDADSFVKFALGSVVAV...</td>\n",
       "      <td>885</td>\n",
       "      <td>424</td>\n",
       "      <td>461</td>\n",
       "      <td>143</td>\n",
       "      <td>114</td>\n",
       "      <td>92</td>\n",
       "      <td>32</td>\n",
       "      <td>MLFYSFFKSLVGKDVVVELKNDLSICGTLHSVDQYLNIKLTDISVT...</td>\n",
       "      <td>95</td>\n",
       "      <td>47</td>\n",
       "      <td>48</td>\n",
       "      <td>13</td>\n",
       "      <td>12</td>\n",
       "      <td>10</td>\n",
       "      <td>4</td>\n",
       "      <td>1</td>\n",
       "    </tr>\n",
       "    <tr>\n",
       "      <th>4</th>\n",
       "      <td>MQSGPRPPLPAPGLALALTLTMLARLASAASFFGENHLEVPVATAL...</td>\n",
       "      <td>2322</td>\n",
       "      <td>1315</td>\n",
       "      <td>1007</td>\n",
       "      <td>242</td>\n",
       "      <td>257</td>\n",
       "      <td>220</td>\n",
       "      <td>38</td>\n",
       "      <td>MQTIKCVVVGDGAVGKTCLLISYTTNKFPSEYVPTVFDNYAVTVMI...</td>\n",
       "      <td>191</td>\n",
       "      <td>99</td>\n",
       "      <td>92</td>\n",
       "      <td>25</td>\n",
       "      <td>24</td>\n",
       "      <td>18</td>\n",
       "      <td>8</td>\n",
       "      <td>1</td>\n",
       "    </tr>\n",
       "  </tbody>\n",
       "</table>\n",
       "</div>"
      ],
      "text/plain": [
       "                                       protein_1_seq  1_protein_len  \\\n",
       "0  MESSKKMDSPGALQTNPPLKLHTDRSAGTPVFVPEQGGYKEKFVKT...            568   \n",
       "1  MVMSSYMVNSKYVDPKFPPCEEYLQGGYLGEQGADYYGGGAQGADF...            255   \n",
       "2  MNRHLWKSQLCEMVQPSGGPAADQDVLGEESPLGKPAMLHLPSEQG...            419   \n",
       "3  MAPPSTREPRVLSATSATKSDGEMVLPGFPDADSFVKFALGSVVAV...            885   \n",
       "4  MQSGPRPPLPAPGLALALTLTMLARLASAASFFGENHLEVPVATAL...           2322   \n",
       "\n",
       "   1_phobic_count  1_philic_count  1_basic_count  1_acidic_count  \\\n",
       "0             243             325             98              73   \n",
       "1             136             119             39              20   \n",
       "2             175             244             71              73   \n",
       "3             424             461            143             114   \n",
       "4            1315            1007            242             257   \n",
       "\n",
       "   1_aromatic_count  1_sulfur_count  \\\n",
       "0                56              44   \n",
       "1                32              10   \n",
       "2                23              23   \n",
       "3                92              32   \n",
       "4               220              38   \n",
       "\n",
       "                                       protein_2_seq  2_protein_len  \\\n",
       "0  MARPHPWWLCVLGTLVGLSATPAPKSCPERHYWAQGKLCCQMCEPG...            260   \n",
       "1  MAENVVEPGPPSAKRPKLSSPALSASASDGTDFGSLFDLEHDLPDE...           2414   \n",
       "2  MEGGRRARVVIESKRNFFLGAFPTPFPAEHVELGRLGDSETAMVPG...            538   \n",
       "3  MLFYSFFKSLVGKDVVVELKNDLSICGTLHSVDQYLNIKLTDISVT...             95   \n",
       "4  MQTIKCVVVGDGAVGKTCLLISYTTNKFPSEYVPTVFDNYAVTVMI...            191   \n",
       "\n",
       "   2_phobic_count  2_philic_count  2_basic_count  2_acidic_count  \\\n",
       "0             120             140             40              25   \n",
       "1            1189            1225            277             178   \n",
       "2             252             286             77              87   \n",
       "3              47              48             13              12   \n",
       "4              99              92             25              24   \n",
       "\n",
       "   2_aromatic_count  2_sulfur_count  protein_interaction  \n",
       "0                30              26                    1  \n",
       "1               170             169                    1  \n",
       "2                53              30                    1  \n",
       "3                10               4                    1  \n",
       "4                18               8                    1  "
      ]
     },
     "execution_count": 68,
     "metadata": {},
     "output_type": "execute_result"
    }
   ],
   "source": [
    "df_fe_classed.head()"
   ]
  },
  {
   "cell_type": "code",
   "execution_count": 90,
   "id": "3b415952",
   "metadata": {},
   "outputs": [],
   "source": [
    "def z_test(df):\n",
    "    \n",
    "    res_dict = {}\n",
    "    \n",
    "    name_list = list(df.columns)\n",
    "    \n",
    "    zero_len = len(df_fe_classed[df_fe_classed['protein_interaction'] == 0])\n",
    "    \n",
    "    one_len = len(df_fe_classed[df_fe_classed['protein_interaction'] == 1])\n",
    "    \n",
    "    one_indexes = []\n",
    "    for x in range(len(df)):\n",
    "        if df['protein_interaction'][x] == 1:\n",
    "            one_indexes.append(x)\n",
    "            \n",
    "    zero_indexes = []\n",
    "    for x in range(len(df)):\n",
    "        if df['protein_interaction'][x] == 0:\n",
    "            zero_indexes.append(x)\n",
    "    \n",
    "    for x in range(7):\n",
    "        \n",
    "        sub_0_1 = df.loc[zero_indexes, name_list[x+1]]\n",
    "        \n",
    "        sub_0_2 = df.loc[zero_indexes, name_list[x+9]]\n",
    "        \n",
    "        con_0 = pd.concat([sub_0_1, sub_0_2], axis=0)\n",
    "        \n",
    "        mean_0 = con_0.agg('mean') \n",
    "        \n",
    "        var_0 = con_0.agg('var')\n",
    "        \n",
    "        \n",
    "        sub_1_1 = df.loc[one_indexes, name_list[x+1]]\n",
    "        \n",
    "        sub_1_2 = df.loc[one_indexes, name_list[x+9]]\n",
    "        \n",
    "        con_1 = pd.concat([sub_1_1, sub_1_2], axis=0)\n",
    "        \n",
    "        mean_1 = con_1.agg('mean') \n",
    "        \n",
    "        var_1 = con_1.agg('var')\n",
    "        \n",
    "        \n",
    "        \n",
    "        num = (mean_0-mean_1)\n",
    "        den = np.sqrt((var_0**2)/len(con_0) + (var_1**2)/len(con_1))\n",
    "        z_score = num/den\n",
    "        \n",
    "        res_dict[name_list[x+1][2:]] = z_score\n",
    "        \n",
    "    return res_dict\n",
    "        "
   ]
  },
  {
   "cell_type": "code",
   "execution_count": 91,
   "id": "bf7ead79",
   "metadata": {},
   "outputs": [],
   "source": [
    "z_test = z_test(df_fe_classed)"
   ]
  },
  {
   "cell_type": "code",
   "execution_count": 92,
   "id": "e688a852",
   "metadata": {},
   "outputs": [
    {
     "name": "stdout",
     "output_type": "stream",
     "text": [
      "{'protein_len': -0.052693148789676195, 'phobic_count': -0.1095912835241247, 'philic_count': -0.09894030291565321, 'basic_count': -0.27609928513044735, 'acidic_count': -0.34500731880692176, 'aromatic_count': -0.6142270394023824, 'sulfur_count': -1.4331230113302822}\n"
     ]
    }
   ],
   "source": [
    "print (z_test)"
   ]
  },
  {
   "cell_type": "markdown",
   "id": "4f746ec9",
   "metadata": {},
   "source": [
    "By comparing the different attributes of the different groups, the means do not seem to vary at the level of p=.05 (a z score of 1.96)"
   ]
  },
  {
   "cell_type": "markdown",
   "id": "8833f6bf",
   "metadata": {},
   "source": [
    "# 5.) PCA\n"
   ]
  },
  {
   "cell_type": "markdown",
   "id": "8d6f0b13",
   "metadata": {},
   "source": [
    "# Summary:\n",
    "\n",
    "In this notebook, I took the sequences of the proteins and created several features for each protein based on frequency in a kind of amino acid in the sequence.  The features created for each protein in the protein pairs of the original csv are the length of the amino acid sequence, the hydrophobic residue amount, the hydrophilic count, the basic count, the acidic count, the aromatic count, and the count of residues with sulfur within them.  Using these newly made features, I produced a new dataframe. \n",
    "\n",
    "The dataframe underwent a visualization in which the histograms of the different compositions were visualized.\n",
    "Additionally, a heatmap correlation was provided in order to see if there were any strong correlations.\n",
    "More inferential statistics that were performed included a chi-squared test and z test.  From this it was found that there was a significant difference in terms of mass summation of kinds of amino acids between the two groups.  And with the z scores, there were no scores that passed the threshold of p = .05 (or a z score of 1.96).\n"
   ]
  },
  {
   "cell_type": "code",
   "execution_count": null,
   "id": "a0c62cfb",
   "metadata": {},
   "outputs": [],
   "source": []
  }
 ],
 "metadata": {
  "kernelspec": {
   "display_name": "Python 3 (ipykernel)",
   "language": "python",
   "name": "python3"
  },
  "language_info": {
   "codemirror_mode": {
    "name": "ipython",
    "version": 3
   },
   "file_extension": ".py",
   "mimetype": "text/x-python",
   "name": "python",
   "nbconvert_exporter": "python",
   "pygments_lexer": "ipython3",
   "version": "3.11.7"
  }
 },
 "nbformat": 4,
 "nbformat_minor": 5
}
