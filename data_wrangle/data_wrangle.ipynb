{
 "cells": [
  {
   "cell_type": "markdown",
   "id": "7069cd24",
   "metadata": {},
   "source": [
    "# Data Wrangle:\n",
    "\n",
    "In this notebook I intend to inspect a kaggle dataset detailing amino acid sequences of two proteins and whether or not those respective proteins interact with one another.\n",
    "\n",
    "The link to the dataset is attached here: https://www.kaggle.com/datasets/spandansureja/ppi-dataset?resource=download\n",
    "\n",
    "\n",
    "\n",
    "I will see what the data looks like once uploaded via pandas, and from there I will decide how the exploratory data analysis will go.\n",
    "\n",
    "The preliminary goal is to see whether or not the presence of aromatic residues (phenylalanine, tyrosine, tryptophan, histidine) or number of aromatic residues is a good predictor of protein to protein interactions.\n",
    "\n",
    "\n",
    "The model would input the qualities of the protein 1, qualities of protein 2, and from there have a 1 classification if there is a protein to protein interaction or a 0 if there is no interaction (logistic regression most likely is the best ml algorithm for this question).\n"
   ]
  },
  {
   "cell_type": "markdown",
   "id": "ae8bb226",
   "metadata": {},
   "source": [
    "1.) Open up the protein to protein yes interaction csv\n",
    "\n",
    "2.) Open up the protein to protein no interaction csv\n",
    "\n",
    "3.) Merge the two csv's into one csv"
   ]
  },
  {
   "cell_type": "markdown",
   "id": "5a4b1b88",
   "metadata": {},
   "source": [
    "## Imports\n"
   ]
  },
  {
   "cell_type": "code",
   "execution_count": 2,
   "id": "0030232b",
   "metadata": {},
   "outputs": [],
   "source": [
    "import pandas as pd\n",
    "import numpy as np\n",
    "import matplotlib.pyplot as plt\n",
    "import seaborn as sns"
   ]
  },
  {
   "cell_type": "markdown",
   "id": "19d1afba",
   "metadata": {},
   "source": [
    "## 1.) Open up the csv containing positive protein to protein interactions"
   ]
  },
  {
   "cell_type": "code",
   "execution_count": 3,
   "id": "bfb80700",
   "metadata": {},
   "outputs": [],
   "source": [
    "yes_df = pd.read_csv('positive_protein_sequences.csv')"
   ]
  },
  {
   "cell_type": "code",
   "execution_count": 6,
   "id": "9d7ebbb8",
   "metadata": {},
   "outputs": [
    {
     "data": {
      "text/html": [
       "<div>\n",
       "<style scoped>\n",
       "    .dataframe tbody tr th:only-of-type {\n",
       "        vertical-align: middle;\n",
       "    }\n",
       "\n",
       "    .dataframe tbody tr th {\n",
       "        vertical-align: top;\n",
       "    }\n",
       "\n",
       "    .dataframe thead th {\n",
       "        text-align: right;\n",
       "    }\n",
       "</style>\n",
       "<table border=\"1\" class=\"dataframe\">\n",
       "  <thead>\n",
       "    <tr style=\"text-align: right;\">\n",
       "      <th></th>\n",
       "      <th>protein_sequences_1</th>\n",
       "      <th>protein_sequences_2</th>\n",
       "    </tr>\n",
       "  </thead>\n",
       "  <tbody>\n",
       "    <tr>\n",
       "      <th>0</th>\n",
       "      <td>MESSKKMDSPGALQTNPPLKLHTDRSAGTPVFVPEQGGYKEKFVKT...</td>\n",
       "      <td>MARPHPWWLCVLGTLVGLSATPAPKSCPERHYWAQGKLCCQMCEPG...</td>\n",
       "    </tr>\n",
       "    <tr>\n",
       "      <th>1</th>\n",
       "      <td>MVMSSYMVNSKYVDPKFPPCEEYLQGGYLGEQGADYYGGGAQGADF...</td>\n",
       "      <td>MAENVVEPGPPSAKRPKLSSPALSASASDGTDFGSLFDLEHDLPDE...</td>\n",
       "    </tr>\n",
       "    <tr>\n",
       "      <th>2</th>\n",
       "      <td>MNRHLWKSQLCEMVQPSGGPAADQDVLGEESPLGKPAMLHLPSEQG...</td>\n",
       "      <td>MEGGRRARVVIESKRNFFLGAFPTPFPAEHVELGRLGDSETAMVPG...</td>\n",
       "    </tr>\n",
       "    <tr>\n",
       "      <th>3</th>\n",
       "      <td>MAPPSTREPRVLSATSATKSDGEMVLPGFPDADSFVKFALGSVVAV...</td>\n",
       "      <td>MLFYSFFKSLVGKDVVVELKNDLSICGTLHSVDQYLNIKLTDISVT...</td>\n",
       "    </tr>\n",
       "    <tr>\n",
       "      <th>4</th>\n",
       "      <td>MQSGPRPPLPAPGLALALTLTMLARLASAASFFGENHLEVPVATAL...</td>\n",
       "      <td>MQTIKCVVVGDGAVGKTCLLISYTTNKFPSEYVPTVFDNYAVTVMI...</td>\n",
       "    </tr>\n",
       "  </tbody>\n",
       "</table>\n",
       "</div>"
      ],
      "text/plain": [
       "                                 protein_sequences_1  \\\n",
       "0  MESSKKMDSPGALQTNPPLKLHTDRSAGTPVFVPEQGGYKEKFVKT...   \n",
       "1  MVMSSYMVNSKYVDPKFPPCEEYLQGGYLGEQGADYYGGGAQGADF...   \n",
       "2  MNRHLWKSQLCEMVQPSGGPAADQDVLGEESPLGKPAMLHLPSEQG...   \n",
       "3  MAPPSTREPRVLSATSATKSDGEMVLPGFPDADSFVKFALGSVVAV...   \n",
       "4  MQSGPRPPLPAPGLALALTLTMLARLASAASFFGENHLEVPVATAL...   \n",
       "\n",
       "                                 protein_sequences_2  \n",
       "0  MARPHPWWLCVLGTLVGLSATPAPKSCPERHYWAQGKLCCQMCEPG...  \n",
       "1  MAENVVEPGPPSAKRPKLSSPALSASASDGTDFGSLFDLEHDLPDE...  \n",
       "2  MEGGRRARVVIESKRNFFLGAFPTPFPAEHVELGRLGDSETAMVPG...  \n",
       "3  MLFYSFFKSLVGKDVVVELKNDLSICGTLHSVDQYLNIKLTDISVT...  \n",
       "4  MQTIKCVVVGDGAVGKTCLLISYTTNKFPSEYVPTVFDNYAVTVMI...  "
      ]
     },
     "execution_count": 6,
     "metadata": {},
     "output_type": "execute_result"
    }
   ],
   "source": [
    "yes_df.head()"
   ]
  },
  {
   "cell_type": "code",
   "execution_count": 5,
   "id": "c96343c2",
   "metadata": {},
   "outputs": [
    {
     "data": {
      "text/html": [
       "<div>\n",
       "<style scoped>\n",
       "    .dataframe tbody tr th:only-of-type {\n",
       "        vertical-align: middle;\n",
       "    }\n",
       "\n",
       "    .dataframe tbody tr th {\n",
       "        vertical-align: top;\n",
       "    }\n",
       "\n",
       "    .dataframe thead th {\n",
       "        text-align: right;\n",
       "    }\n",
       "</style>\n",
       "<table border=\"1\" class=\"dataframe\">\n",
       "  <thead>\n",
       "    <tr style=\"text-align: right;\">\n",
       "      <th></th>\n",
       "      <th>protein_sequences_1</th>\n",
       "      <th>protein_sequences_2</th>\n",
       "    </tr>\n",
       "  </thead>\n",
       "  <tbody>\n",
       "    <tr>\n",
       "      <th>count</th>\n",
       "      <td>36630</td>\n",
       "      <td>36630</td>\n",
       "    </tr>\n",
       "    <tr>\n",
       "      <th>unique</th>\n",
       "      <td>7590</td>\n",
       "      <td>6995</td>\n",
       "    </tr>\n",
       "    <tr>\n",
       "      <th>top</th>\n",
       "      <td>MVDREQLVQKARLAEQAERYDDMAAAMKNVTELNEPLSNEERNLLS...</td>\n",
       "      <td>MEAIAKYDFKATADDELSFKRGDILKVLNEECDQNWYKAELNGKDG...</td>\n",
       "    </tr>\n",
       "    <tr>\n",
       "      <th>freq</th>\n",
       "      <td>172</td>\n",
       "      <td>170</td>\n",
       "    </tr>\n",
       "  </tbody>\n",
       "</table>\n",
       "</div>"
      ],
      "text/plain": [
       "                                      protein_sequences_1  \\\n",
       "count                                               36630   \n",
       "unique                                               7590   \n",
       "top     MVDREQLVQKARLAEQAERYDDMAAAMKNVTELNEPLSNEERNLLS...   \n",
       "freq                                                  172   \n",
       "\n",
       "                                      protein_sequences_2  \n",
       "count                                               36630  \n",
       "unique                                               6995  \n",
       "top     MEAIAKYDFKATADDELSFKRGDILKVLNEECDQNWYKAELNGKDG...  \n",
       "freq                                                  170  "
      ]
     },
     "execution_count": 5,
     "metadata": {},
     "output_type": "execute_result"
    }
   ],
   "source": [
    "yes_df.describe()"
   ]
  },
  {
   "cell_type": "code",
   "execution_count": 9,
   "id": "25c9f42f",
   "metadata": {},
   "outputs": [
    {
     "name": "stdout",
     "output_type": "stream",
     "text": [
      "<class 'pandas.core.frame.DataFrame'>\n",
      "RangeIndex: 36630 entries, 0 to 36629\n",
      "Data columns (total 2 columns):\n",
      " #   Column               Non-Null Count  Dtype \n",
      "---  ------               --------------  ----- \n",
      " 0   protein_sequences_1  36630 non-null  object\n",
      " 1   protein_sequences_2  36630 non-null  object\n",
      "dtypes: object(2)\n",
      "memory usage: 572.5+ KB\n"
     ]
    }
   ],
   "source": [
    "yes_df.info()"
   ]
  },
  {
   "cell_type": "code",
   "execution_count": 10,
   "id": "83913295",
   "metadata": {},
   "outputs": [
    {
     "data": {
      "text/plain": [
       "protein_sequences_1    object\n",
       "protein_sequences_2    object\n",
       "dtype: object"
      ]
     },
     "execution_count": 10,
     "metadata": {},
     "output_type": "execute_result"
    }
   ],
   "source": [
    "yes_df.dtypes"
   ]
  },
  {
   "cell_type": "markdown",
   "id": "e5786819",
   "metadata": {},
   "source": [
    "## add a third column indicating that all of these pairings were positive in a protein to protein interaction"
   ]
  },
  {
   "cell_type": "code",
   "execution_count": 11,
   "id": "32a6b37b",
   "metadata": {},
   "outputs": [],
   "source": [
    "ones = []\n",
    "for x in range(36630):\n",
    "    ones.append(1)"
   ]
  },
  {
   "cell_type": "code",
   "execution_count": 12,
   "id": "ee689036",
   "metadata": {},
   "outputs": [],
   "source": [
    "yes_df['protein_interaction'] = ones"
   ]
  },
  {
   "cell_type": "code",
   "execution_count": 16,
   "id": "a5213fc4",
   "metadata": {},
   "outputs": [
    {
     "data": {
      "text/html": [
       "<div>\n",
       "<style scoped>\n",
       "    .dataframe tbody tr th:only-of-type {\n",
       "        vertical-align: middle;\n",
       "    }\n",
       "\n",
       "    .dataframe tbody tr th {\n",
       "        vertical-align: top;\n",
       "    }\n",
       "\n",
       "    .dataframe thead th {\n",
       "        text-align: right;\n",
       "    }\n",
       "</style>\n",
       "<table border=\"1\" class=\"dataframe\">\n",
       "  <thead>\n",
       "    <tr style=\"text-align: right;\">\n",
       "      <th></th>\n",
       "      <th>protein_sequences_1</th>\n",
       "      <th>protein_sequences_2</th>\n",
       "      <th>protein_interaction</th>\n",
       "    </tr>\n",
       "  </thead>\n",
       "  <tbody>\n",
       "    <tr>\n",
       "      <th>0</th>\n",
       "      <td>MESSKKMDSPGALQTNPPLKLHTDRSAGTPVFVPEQGGYKEKFVKT...</td>\n",
       "      <td>MARPHPWWLCVLGTLVGLSATPAPKSCPERHYWAQGKLCCQMCEPG...</td>\n",
       "      <td>1</td>\n",
       "    </tr>\n",
       "    <tr>\n",
       "      <th>1</th>\n",
       "      <td>MVMSSYMVNSKYVDPKFPPCEEYLQGGYLGEQGADYYGGGAQGADF...</td>\n",
       "      <td>MAENVVEPGPPSAKRPKLSSPALSASASDGTDFGSLFDLEHDLPDE...</td>\n",
       "      <td>1</td>\n",
       "    </tr>\n",
       "    <tr>\n",
       "      <th>2</th>\n",
       "      <td>MNRHLWKSQLCEMVQPSGGPAADQDVLGEESPLGKPAMLHLPSEQG...</td>\n",
       "      <td>MEGGRRARVVIESKRNFFLGAFPTPFPAEHVELGRLGDSETAMVPG...</td>\n",
       "      <td>1</td>\n",
       "    </tr>\n",
       "    <tr>\n",
       "      <th>3</th>\n",
       "      <td>MAPPSTREPRVLSATSATKSDGEMVLPGFPDADSFVKFALGSVVAV...</td>\n",
       "      <td>MLFYSFFKSLVGKDVVVELKNDLSICGTLHSVDQYLNIKLTDISVT...</td>\n",
       "      <td>1</td>\n",
       "    </tr>\n",
       "    <tr>\n",
       "      <th>4</th>\n",
       "      <td>MQSGPRPPLPAPGLALALTLTMLARLASAASFFGENHLEVPVATAL...</td>\n",
       "      <td>MQTIKCVVVGDGAVGKTCLLISYTTNKFPSEYVPTVFDNYAVTVMI...</td>\n",
       "      <td>1</td>\n",
       "    </tr>\n",
       "  </tbody>\n",
       "</table>\n",
       "</div>"
      ],
      "text/plain": [
       "                                 protein_sequences_1  \\\n",
       "0  MESSKKMDSPGALQTNPPLKLHTDRSAGTPVFVPEQGGYKEKFVKT...   \n",
       "1  MVMSSYMVNSKYVDPKFPPCEEYLQGGYLGEQGADYYGGGAQGADF...   \n",
       "2  MNRHLWKSQLCEMVQPSGGPAADQDVLGEESPLGKPAMLHLPSEQG...   \n",
       "3  MAPPSTREPRVLSATSATKSDGEMVLPGFPDADSFVKFALGSVVAV...   \n",
       "4  MQSGPRPPLPAPGLALALTLTMLARLASAASFFGENHLEVPVATAL...   \n",
       "\n",
       "                                 protein_sequences_2  protein_interaction  \n",
       "0  MARPHPWWLCVLGTLVGLSATPAPKSCPERHYWAQGKLCCQMCEPG...                    1  \n",
       "1  MAENVVEPGPPSAKRPKLSSPALSASASDGTDFGSLFDLEHDLPDE...                    1  \n",
       "2  MEGGRRARVVIESKRNFFLGAFPTPFPAEHVELGRLGDSETAMVPG...                    1  \n",
       "3  MLFYSFFKSLVGKDVVVELKNDLSICGTLHSVDQYLNIKLTDISVT...                    1  \n",
       "4  MQTIKCVVVGDGAVGKTCLLISYTTNKFPSEYVPTVFDNYAVTVMI...                    1  "
      ]
     },
     "execution_count": 16,
     "metadata": {},
     "output_type": "execute_result"
    }
   ],
   "source": [
    "yes_df.head()"
   ]
  },
  {
   "cell_type": "markdown",
   "id": "648ccfc8",
   "metadata": {},
   "source": [
    "# 2.) Open up the negative protein to protein interactions"
   ]
  },
  {
   "cell_type": "code",
   "execution_count": 17,
   "id": "7f634a06",
   "metadata": {},
   "outputs": [],
   "source": [
    "no_df = pd.read_csv('negative_protein_sequences.csv')"
   ]
  },
  {
   "cell_type": "code",
   "execution_count": 18,
   "id": "c1e2d7d7",
   "metadata": {},
   "outputs": [
    {
     "data": {
      "text/html": [
       "<div>\n",
       "<style scoped>\n",
       "    .dataframe tbody tr th:only-of-type {\n",
       "        vertical-align: middle;\n",
       "    }\n",
       "\n",
       "    .dataframe tbody tr th {\n",
       "        vertical-align: top;\n",
       "    }\n",
       "\n",
       "    .dataframe thead th {\n",
       "        text-align: right;\n",
       "    }\n",
       "</style>\n",
       "<table border=\"1\" class=\"dataframe\">\n",
       "  <thead>\n",
       "    <tr style=\"text-align: right;\">\n",
       "      <th></th>\n",
       "      <th>protein_sequences_1</th>\n",
       "      <th>protein_sequences_2</th>\n",
       "    </tr>\n",
       "  </thead>\n",
       "  <tbody>\n",
       "    <tr>\n",
       "      <th>count</th>\n",
       "      <td>36480</td>\n",
       "      <td>36480</td>\n",
       "    </tr>\n",
       "    <tr>\n",
       "      <th>unique</th>\n",
       "      <td>1355</td>\n",
       "      <td>987</td>\n",
       "    </tr>\n",
       "    <tr>\n",
       "      <th>top</th>\n",
       "      <td>MMLQHPGQVSASEVSASAIVPCLSPPGSLVFEDFANLTPFVKEELR...</td>\n",
       "      <td>MSVSGLKAELKFLASIFDKNHERFRIVSWKLDELHCQFLVPQQGSP...</td>\n",
       "    </tr>\n",
       "    <tr>\n",
       "      <th>freq</th>\n",
       "      <td>50</td>\n",
       "      <td>82</td>\n",
       "    </tr>\n",
       "  </tbody>\n",
       "</table>\n",
       "</div>"
      ],
      "text/plain": [
       "                                      protein_sequences_1  \\\n",
       "count                                               36480   \n",
       "unique                                               1355   \n",
       "top     MMLQHPGQVSASEVSASAIVPCLSPPGSLVFEDFANLTPFVKEELR...   \n",
       "freq                                                   50   \n",
       "\n",
       "                                      protein_sequences_2  \n",
       "count                                               36480  \n",
       "unique                                                987  \n",
       "top     MSVSGLKAELKFLASIFDKNHERFRIVSWKLDELHCQFLVPQQGSP...  \n",
       "freq                                                   82  "
      ]
     },
     "execution_count": 18,
     "metadata": {},
     "output_type": "execute_result"
    }
   ],
   "source": [
    "no_df.describe()"
   ]
  },
  {
   "cell_type": "code",
   "execution_count": 20,
   "id": "c5f43088",
   "metadata": {},
   "outputs": [
    {
     "name": "stdout",
     "output_type": "stream",
     "text": [
      "<class 'pandas.core.frame.DataFrame'>\n",
      "RangeIndex: 36480 entries, 0 to 36479\n",
      "Data columns (total 2 columns):\n",
      " #   Column               Non-Null Count  Dtype \n",
      "---  ------               --------------  ----- \n",
      " 0   protein_sequences_1  36480 non-null  object\n",
      " 1   protein_sequences_2  36480 non-null  object\n",
      "dtypes: object(2)\n",
      "memory usage: 570.1+ KB\n"
     ]
    }
   ],
   "source": [
    "no_df.info()"
   ]
  },
  {
   "cell_type": "code",
   "execution_count": 21,
   "id": "2bf03774",
   "metadata": {},
   "outputs": [
    {
     "data": {
      "text/plain": [
       "protein_sequences_1    object\n",
       "protein_sequences_2    object\n",
       "dtype: object"
      ]
     },
     "execution_count": 21,
     "metadata": {},
     "output_type": "execute_result"
    }
   ],
   "source": [
    "no_df.dtypes"
   ]
  },
  {
   "cell_type": "code",
   "execution_count": 25,
   "id": "18827a98",
   "metadata": {},
   "outputs": [],
   "source": [
    "nos = []\n",
    "for x in range(36480):\n",
    "    nos.append(0)"
   ]
  },
  {
   "cell_type": "code",
   "execution_count": 26,
   "id": "c967cb77",
   "metadata": {},
   "outputs": [],
   "source": [
    "no_df['protein_interaction'] = nos"
   ]
  },
  {
   "cell_type": "code",
   "execution_count": 27,
   "id": "8cf422eb",
   "metadata": {},
   "outputs": [
    {
     "data": {
      "text/html": [
       "<div>\n",
       "<style scoped>\n",
       "    .dataframe tbody tr th:only-of-type {\n",
       "        vertical-align: middle;\n",
       "    }\n",
       "\n",
       "    .dataframe tbody tr th {\n",
       "        vertical-align: top;\n",
       "    }\n",
       "\n",
       "    .dataframe thead th {\n",
       "        text-align: right;\n",
       "    }\n",
       "</style>\n",
       "<table border=\"1\" class=\"dataframe\">\n",
       "  <thead>\n",
       "    <tr style=\"text-align: right;\">\n",
       "      <th></th>\n",
       "      <th>protein_sequences_1</th>\n",
       "      <th>protein_sequences_2</th>\n",
       "      <th>protein_interaction</th>\n",
       "    </tr>\n",
       "  </thead>\n",
       "  <tbody>\n",
       "    <tr>\n",
       "      <th>0</th>\n",
       "      <td>MSVEMDSSSFIQFDVPEYSSTVLSQLNELRLQGKLCDIIVHIQGQP...</td>\n",
       "      <td>MGDTFIRHIALLGFEKRFVPSQHYVYMFLVKWQDLSEKVVYRRFTE...</td>\n",
       "      <td>0</td>\n",
       "    </tr>\n",
       "    <tr>\n",
       "      <th>1</th>\n",
       "      <td>MPITRMRMRPWLEMQINSNQIPGLIWINKEEMIFQIPWKHAAKHGW...</td>\n",
       "      <td>MTMPVNGAHKDADLWSSHDKMLAQPLKDSDVEVYNIIKKESNRQRV...</td>\n",
       "      <td>0</td>\n",
       "    </tr>\n",
       "    <tr>\n",
       "      <th>2</th>\n",
       "      <td>MLCVRGARLKRELDATATVLANRQDESEQSRKRLIEQSREFKKNTP...</td>\n",
       "      <td>MRLTLLCCTWREERMGEEGSELPVCASCGQRIYDGQYLQALNADWH...</td>\n",
       "      <td>0</td>\n",
       "    </tr>\n",
       "    <tr>\n",
       "      <th>3</th>\n",
       "      <td>MDALESLLDEVALEGLDGLCLPALWSRLETRVPPFPLPLEPCTQEF...</td>\n",
       "      <td>MERLQKQPLTSPGSVSPSRDSSVPGSPSSIVAKMDNQVLGYKDLAA...</td>\n",
       "      <td>0</td>\n",
       "    </tr>\n",
       "    <tr>\n",
       "      <th>4</th>\n",
       "      <td>MALSRGLPRELAEAVAGGRVLVVGAGGIGCELLKNLVLTGFSHIDL...</td>\n",
       "      <td>MVVMNSLRVILQASPGKLLWRKFQIPRFMPARPCSLYTCTYKTRNR...</td>\n",
       "      <td>0</td>\n",
       "    </tr>\n",
       "  </tbody>\n",
       "</table>\n",
       "</div>"
      ],
      "text/plain": [
       "                                 protein_sequences_1  \\\n",
       "0  MSVEMDSSSFIQFDVPEYSSTVLSQLNELRLQGKLCDIIVHIQGQP...   \n",
       "1  MPITRMRMRPWLEMQINSNQIPGLIWINKEEMIFQIPWKHAAKHGW...   \n",
       "2  MLCVRGARLKRELDATATVLANRQDESEQSRKRLIEQSREFKKNTP...   \n",
       "3  MDALESLLDEVALEGLDGLCLPALWSRLETRVPPFPLPLEPCTQEF...   \n",
       "4  MALSRGLPRELAEAVAGGRVLVVGAGGIGCELLKNLVLTGFSHIDL...   \n",
       "\n",
       "                                 protein_sequences_2  protein_interaction  \n",
       "0  MGDTFIRHIALLGFEKRFVPSQHYVYMFLVKWQDLSEKVVYRRFTE...                    0  \n",
       "1  MTMPVNGAHKDADLWSSHDKMLAQPLKDSDVEVYNIIKKESNRQRV...                    0  \n",
       "2  MRLTLLCCTWREERMGEEGSELPVCASCGQRIYDGQYLQALNADWH...                    0  \n",
       "3  MERLQKQPLTSPGSVSPSRDSSVPGSPSSIVAKMDNQVLGYKDLAA...                    0  \n",
       "4  MVVMNSLRVILQASPGKLLWRKFQIPRFMPARPCSLYTCTYKTRNR...                    0  "
      ]
     },
     "execution_count": 27,
     "metadata": {},
     "output_type": "execute_result"
    }
   ],
   "source": [
    "no_df.head()"
   ]
  },
  {
   "cell_type": "markdown",
   "id": "ce40ceae",
   "metadata": {},
   "source": [
    "# 3.) Merge the two dataframes together"
   ]
  },
  {
   "cell_type": "code",
   "execution_count": 29,
   "id": "f4ad73be",
   "metadata": {},
   "outputs": [],
   "source": [
    "full_df = pd.concat([yes_df,no_df], axis = 0)"
   ]
  },
  {
   "cell_type": "code",
   "execution_count": 30,
   "id": "e81694de",
   "metadata": {},
   "outputs": [
    {
     "data": {
      "text/html": [
       "<div>\n",
       "<style scoped>\n",
       "    .dataframe tbody tr th:only-of-type {\n",
       "        vertical-align: middle;\n",
       "    }\n",
       "\n",
       "    .dataframe tbody tr th {\n",
       "        vertical-align: top;\n",
       "    }\n",
       "\n",
       "    .dataframe thead th {\n",
       "        text-align: right;\n",
       "    }\n",
       "</style>\n",
       "<table border=\"1\" class=\"dataframe\">\n",
       "  <thead>\n",
       "    <tr style=\"text-align: right;\">\n",
       "      <th></th>\n",
       "      <th>protein_sequences_1</th>\n",
       "      <th>protein_sequences_2</th>\n",
       "      <th>protein_interaction</th>\n",
       "    </tr>\n",
       "  </thead>\n",
       "  <tbody>\n",
       "    <tr>\n",
       "      <th>0</th>\n",
       "      <td>MESSKKMDSPGALQTNPPLKLHTDRSAGTPVFVPEQGGYKEKFVKT...</td>\n",
       "      <td>MARPHPWWLCVLGTLVGLSATPAPKSCPERHYWAQGKLCCQMCEPG...</td>\n",
       "      <td>1</td>\n",
       "    </tr>\n",
       "    <tr>\n",
       "      <th>1</th>\n",
       "      <td>MVMSSYMVNSKYVDPKFPPCEEYLQGGYLGEQGADYYGGGAQGADF...</td>\n",
       "      <td>MAENVVEPGPPSAKRPKLSSPALSASASDGTDFGSLFDLEHDLPDE...</td>\n",
       "      <td>1</td>\n",
       "    </tr>\n",
       "    <tr>\n",
       "      <th>2</th>\n",
       "      <td>MNRHLWKSQLCEMVQPSGGPAADQDVLGEESPLGKPAMLHLPSEQG...</td>\n",
       "      <td>MEGGRRARVVIESKRNFFLGAFPTPFPAEHVELGRLGDSETAMVPG...</td>\n",
       "      <td>1</td>\n",
       "    </tr>\n",
       "    <tr>\n",
       "      <th>3</th>\n",
       "      <td>MAPPSTREPRVLSATSATKSDGEMVLPGFPDADSFVKFALGSVVAV...</td>\n",
       "      <td>MLFYSFFKSLVGKDVVVELKNDLSICGTLHSVDQYLNIKLTDISVT...</td>\n",
       "      <td>1</td>\n",
       "    </tr>\n",
       "    <tr>\n",
       "      <th>4</th>\n",
       "      <td>MQSGPRPPLPAPGLALALTLTMLARLASAASFFGENHLEVPVATAL...</td>\n",
       "      <td>MQTIKCVVVGDGAVGKTCLLISYTTNKFPSEYVPTVFDNYAVTVMI...</td>\n",
       "      <td>1</td>\n",
       "    </tr>\n",
       "  </tbody>\n",
       "</table>\n",
       "</div>"
      ],
      "text/plain": [
       "                                 protein_sequences_1  \\\n",
       "0  MESSKKMDSPGALQTNPPLKLHTDRSAGTPVFVPEQGGYKEKFVKT...   \n",
       "1  MVMSSYMVNSKYVDPKFPPCEEYLQGGYLGEQGADYYGGGAQGADF...   \n",
       "2  MNRHLWKSQLCEMVQPSGGPAADQDVLGEESPLGKPAMLHLPSEQG...   \n",
       "3  MAPPSTREPRVLSATSATKSDGEMVLPGFPDADSFVKFALGSVVAV...   \n",
       "4  MQSGPRPPLPAPGLALALTLTMLARLASAASFFGENHLEVPVATAL...   \n",
       "\n",
       "                                 protein_sequences_2  protein_interaction  \n",
       "0  MARPHPWWLCVLGTLVGLSATPAPKSCPERHYWAQGKLCCQMCEPG...                    1  \n",
       "1  MAENVVEPGPPSAKRPKLSSPALSASASDGTDFGSLFDLEHDLPDE...                    1  \n",
       "2  MEGGRRARVVIESKRNFFLGAFPTPFPAEHVELGRLGDSETAMVPG...                    1  \n",
       "3  MLFYSFFKSLVGKDVVVELKNDLSICGTLHSVDQYLNIKLTDISVT...                    1  \n",
       "4  MQTIKCVVVGDGAVGKTCLLISYTTNKFPSEYVPTVFDNYAVTVMI...                    1  "
      ]
     },
     "execution_count": 30,
     "metadata": {},
     "output_type": "execute_result"
    }
   ],
   "source": [
    "full_df.head()"
   ]
  },
  {
   "cell_type": "code",
   "execution_count": 32,
   "id": "ef249eff",
   "metadata": {},
   "outputs": [
    {
     "data": {
      "text/html": [
       "<div>\n",
       "<style scoped>\n",
       "    .dataframe tbody tr th:only-of-type {\n",
       "        vertical-align: middle;\n",
       "    }\n",
       "\n",
       "    .dataframe tbody tr th {\n",
       "        vertical-align: top;\n",
       "    }\n",
       "\n",
       "    .dataframe thead th {\n",
       "        text-align: right;\n",
       "    }\n",
       "</style>\n",
       "<table border=\"1\" class=\"dataframe\">\n",
       "  <thead>\n",
       "    <tr style=\"text-align: right;\">\n",
       "      <th></th>\n",
       "      <th>protein_interaction</th>\n",
       "    </tr>\n",
       "  </thead>\n",
       "  <tbody>\n",
       "    <tr>\n",
       "      <th>count</th>\n",
       "      <td>73110.000000</td>\n",
       "    </tr>\n",
       "    <tr>\n",
       "      <th>mean</th>\n",
       "      <td>0.501026</td>\n",
       "    </tr>\n",
       "    <tr>\n",
       "      <th>std</th>\n",
       "      <td>0.500002</td>\n",
       "    </tr>\n",
       "    <tr>\n",
       "      <th>min</th>\n",
       "      <td>0.000000</td>\n",
       "    </tr>\n",
       "    <tr>\n",
       "      <th>25%</th>\n",
       "      <td>0.000000</td>\n",
       "    </tr>\n",
       "    <tr>\n",
       "      <th>50%</th>\n",
       "      <td>1.000000</td>\n",
       "    </tr>\n",
       "    <tr>\n",
       "      <th>75%</th>\n",
       "      <td>1.000000</td>\n",
       "    </tr>\n",
       "    <tr>\n",
       "      <th>max</th>\n",
       "      <td>1.000000</td>\n",
       "    </tr>\n",
       "  </tbody>\n",
       "</table>\n",
       "</div>"
      ],
      "text/plain": [
       "       protein_interaction\n",
       "count         73110.000000\n",
       "mean              0.501026\n",
       "std               0.500002\n",
       "min               0.000000\n",
       "25%               0.000000\n",
       "50%               1.000000\n",
       "75%               1.000000\n",
       "max               1.000000"
      ]
     },
     "execution_count": 32,
     "metadata": {},
     "output_type": "execute_result"
    }
   ],
   "source": [
    "full_df.describe()"
   ]
  },
  {
   "cell_type": "code",
   "execution_count": 33,
   "id": "243cea52",
   "metadata": {},
   "outputs": [
    {
     "name": "stdout",
     "output_type": "stream",
     "text": [
      "<class 'pandas.core.frame.DataFrame'>\n",
      "Index: 73110 entries, 0 to 36479\n",
      "Data columns (total 3 columns):\n",
      " #   Column               Non-Null Count  Dtype \n",
      "---  ------               --------------  ----- \n",
      " 0   protein_sequences_1  73110 non-null  object\n",
      " 1   protein_sequences_2  73110 non-null  object\n",
      " 2   protein_interaction  73110 non-null  int64 \n",
      "dtypes: int64(1), object(2)\n",
      "memory usage: 2.2+ MB\n"
     ]
    }
   ],
   "source": [
    "full_df.info()"
   ]
  },
  {
   "cell_type": "code",
   "execution_count": 34,
   "id": "192723d5",
   "metadata": {},
   "outputs": [],
   "source": [
    "full_df.to_csv('complete.csv')"
   ]
  },
  {
   "cell_type": "markdown",
   "id": "fc26e339",
   "metadata": {},
   "source": [
    "# Summary:\n",
    "\n",
    "Looking at the two csvs:\n",
    "\n",
    "There seems to be a nice balance in amount of data between the two classifications: around 36,000 observations for both.\n",
    "\n",
    "The protein sequences are strings.\n",
    "\n",
    "Was able to store the protein interaction information in the form of 0's and 1's (zero being no interaction and one being a interaction)\n",
    "\n"
   ]
  }
 ],
 "metadata": {
  "kernelspec": {
   "display_name": "Python 3 (ipykernel)",
   "language": "python",
   "name": "python3"
  },
  "language_info": {
   "codemirror_mode": {
    "name": "ipython",
    "version": 3
   },
   "file_extension": ".py",
   "mimetype": "text/x-python",
   "name": "python",
   "nbconvert_exporter": "python",
   "pygments_lexer": "ipython3",
   "version": "3.11.7"
  }
 },
 "nbformat": 4,
 "nbformat_minor": 5
}
